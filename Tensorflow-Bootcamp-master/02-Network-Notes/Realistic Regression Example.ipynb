{
 "cells": [
  {
   "cell_type": "code",
   "execution_count": 1,
   "metadata": {
    "collapsed": true
   },
   "outputs": [],
   "source": [
    "import numpy as np\n",
    "import tensorflow as tf"
   ]
  },
  {
   "cell_type": "code",
   "execution_count": 2,
   "metadata": {
    "collapsed": true
   },
   "outputs": [],
   "source": [
    "import pandas as pd\n",
    "import matplotlib.pyplot as plt\n",
    "%matplotlib inline"
   ]
  },
  {
   "cell_type": "code",
   "execution_count": 3,
   "metadata": {
    "collapsed": true
   },
   "outputs": [],
   "source": [
    "x_data = np.linspace(0.0, 10.0, 1000000)"
   ]
  },
  {
   "cell_type": "code",
   "execution_count": 4,
   "metadata": {
    "collapsed": true
   },
   "outputs": [],
   "source": [
    "noise = np.random.randn(len(x_data))"
   ]
  },
  {
   "cell_type": "code",
   "execution_count": 6,
   "metadata": {},
   "outputs": [
    {
     "data": {
      "text/plain": [
       "(1000000,)"
      ]
     },
     "execution_count": 6,
     "metadata": {},
     "output_type": "execute_result"
    }
   ],
   "source": [
    "noise.shape"
   ]
  },
  {
   "cell_type": "code",
   "execution_count": 7,
   "metadata": {},
   "outputs": [
    {
     "data": {
      "text/plain": [
       "array([  0.00000000e+00,   1.00000100e-05,   2.00000200e-05, ...,\n",
       "         9.99998000e+00,   9.99999000e+00,   1.00000000e+01])"
      ]
     },
     "execution_count": 7,
     "metadata": {},
     "output_type": "execute_result"
    }
   ],
   "source": [
    "x_data"
   ]
  },
  {
   "cell_type": "markdown",
   "metadata": {},
   "source": [
    "### y = mx + b\n",
    "\n",
    "#### b = 5"
   ]
  },
  {
   "cell_type": "code",
   "execution_count": 9,
   "metadata": {
    "collapsed": true
   },
   "outputs": [],
   "source": [
    "y_true = (0.5 * x_data) + 5 + noise"
   ]
  },
  {
   "cell_type": "code",
   "execution_count": 11,
   "metadata": {
    "collapsed": true
   },
   "outputs": [],
   "source": [
    "x_df = pd.DataFrame(data=x_data, columns=['X data'])"
   ]
  },
  {
   "cell_type": "code",
   "execution_count": 13,
   "metadata": {
    "collapsed": true
   },
   "outputs": [],
   "source": [
    "y_df = pd.DataFrame(data=y_true, columns=['y'])"
   ]
  },
  {
   "cell_type": "code",
   "execution_count": 14,
   "metadata": {},
   "outputs": [
    {
     "data": {
      "text/html": [
       "<div>\n",
       "<style>\n",
       "    .dataframe thead tr:only-child th {\n",
       "        text-align: right;\n",
       "    }\n",
       "\n",
       "    .dataframe thead th {\n",
       "        text-align: left;\n",
       "    }\n",
       "\n",
       "    .dataframe tbody tr th {\n",
       "        vertical-align: top;\n",
       "    }\n",
       "</style>\n",
       "<table border=\"1\" class=\"dataframe\">\n",
       "  <thead>\n",
       "    <tr style=\"text-align: right;\">\n",
       "      <th></th>\n",
       "      <th>X data</th>\n",
       "    </tr>\n",
       "  </thead>\n",
       "  <tbody>\n",
       "    <tr>\n",
       "      <th>0</th>\n",
       "      <td>0.00000</td>\n",
       "    </tr>\n",
       "    <tr>\n",
       "      <th>1</th>\n",
       "      <td>0.00001</td>\n",
       "    </tr>\n",
       "    <tr>\n",
       "      <th>2</th>\n",
       "      <td>0.00002</td>\n",
       "    </tr>\n",
       "    <tr>\n",
       "      <th>3</th>\n",
       "      <td>0.00003</td>\n",
       "    </tr>\n",
       "    <tr>\n",
       "      <th>4</th>\n",
       "      <td>0.00004</td>\n",
       "    </tr>\n",
       "  </tbody>\n",
       "</table>\n",
       "</div>"
      ],
      "text/plain": [
       "    X data\n",
       "0  0.00000\n",
       "1  0.00001\n",
       "2  0.00002\n",
       "3  0.00003\n",
       "4  0.00004"
      ]
     },
     "execution_count": 14,
     "metadata": {},
     "output_type": "execute_result"
    }
   ],
   "source": [
    "x_df.head()"
   ]
  },
  {
   "cell_type": "code",
   "execution_count": 25,
   "metadata": {
    "collapsed": true
   },
   "outputs": [],
   "source": [
    "my_data = pd.concat([pd.DataFrame(data=x_data,columns=['X Data']),pd.DataFrame(data=y_true,columns=['Y'])],axis=1)"
   ]
  },
  {
   "cell_type": "code",
   "execution_count": 26,
   "metadata": {},
   "outputs": [
    {
     "data": {
      "text/html": [
       "<div>\n",
       "<style>\n",
       "    .dataframe thead tr:only-child th {\n",
       "        text-align: right;\n",
       "    }\n",
       "\n",
       "    .dataframe thead th {\n",
       "        text-align: left;\n",
       "    }\n",
       "\n",
       "    .dataframe tbody tr th {\n",
       "        vertical-align: top;\n",
       "    }\n",
       "</style>\n",
       "<table border=\"1\" class=\"dataframe\">\n",
       "  <thead>\n",
       "    <tr style=\"text-align: right;\">\n",
       "      <th></th>\n",
       "      <th>X Data</th>\n",
       "      <th>Y</th>\n",
       "    </tr>\n",
       "  </thead>\n",
       "  <tbody>\n",
       "    <tr>\n",
       "      <th>0</th>\n",
       "      <td>0.00000</td>\n",
       "      <td>4.194249</td>\n",
       "    </tr>\n",
       "    <tr>\n",
       "      <th>1</th>\n",
       "      <td>0.00001</td>\n",
       "      <td>3.304028</td>\n",
       "    </tr>\n",
       "    <tr>\n",
       "      <th>2</th>\n",
       "      <td>0.00002</td>\n",
       "      <td>4.293040</td>\n",
       "    </tr>\n",
       "    <tr>\n",
       "      <th>3</th>\n",
       "      <td>0.00003</td>\n",
       "      <td>4.710839</td>\n",
       "    </tr>\n",
       "    <tr>\n",
       "      <th>4</th>\n",
       "      <td>0.00004</td>\n",
       "      <td>3.646475</td>\n",
       "    </tr>\n",
       "  </tbody>\n",
       "</table>\n",
       "</div>"
      ],
      "text/plain": [
       "    X Data         Y\n",
       "0  0.00000  4.194249\n",
       "1  0.00001  3.304028\n",
       "2  0.00002  4.293040\n",
       "3  0.00003  4.710839\n",
       "4  0.00004  3.646475"
      ]
     },
     "execution_count": 26,
     "metadata": {},
     "output_type": "execute_result"
    }
   ],
   "source": [
    "my_data.head()"
   ]
  },
  {
   "cell_type": "code",
   "execution_count": 27,
   "metadata": {
    "scrolled": true
   },
   "outputs": [
    {
     "data": {
      "text/html": [
       "<div>\n",
       "<style>\n",
       "    .dataframe thead tr:only-child th {\n",
       "        text-align: right;\n",
       "    }\n",
       "\n",
       "    .dataframe thead th {\n",
       "        text-align: left;\n",
       "    }\n",
       "\n",
       "    .dataframe tbody tr th {\n",
       "        vertical-align: top;\n",
       "    }\n",
       "</style>\n",
       "<table border=\"1\" class=\"dataframe\">\n",
       "  <thead>\n",
       "    <tr style=\"text-align: right;\">\n",
       "      <th></th>\n",
       "      <th>X Data</th>\n",
       "      <th>Y</th>\n",
       "    </tr>\n",
       "  </thead>\n",
       "  <tbody>\n",
       "    <tr>\n",
       "      <th>742994</th>\n",
       "      <td>7.429947</td>\n",
       "      <td>9.398650</td>\n",
       "    </tr>\n",
       "    <tr>\n",
       "      <th>485218</th>\n",
       "      <td>4.852185</td>\n",
       "      <td>6.923553</td>\n",
       "    </tr>\n",
       "    <tr>\n",
       "      <th>644153</th>\n",
       "      <td>6.441536</td>\n",
       "      <td>8.774368</td>\n",
       "    </tr>\n",
       "    <tr>\n",
       "      <th>526209</th>\n",
       "      <td>5.262095</td>\n",
       "      <td>8.754957</td>\n",
       "    </tr>\n",
       "    <tr>\n",
       "      <th>635423</th>\n",
       "      <td>6.354236</td>\n",
       "      <td>6.592635</td>\n",
       "    </tr>\n",
       "    <tr>\n",
       "      <th>611892</th>\n",
       "      <td>6.118926</td>\n",
       "      <td>9.696810</td>\n",
       "    </tr>\n",
       "    <tr>\n",
       "      <th>658127</th>\n",
       "      <td>6.581277</td>\n",
       "      <td>9.367344</td>\n",
       "    </tr>\n",
       "    <tr>\n",
       "      <th>248984</th>\n",
       "      <td>2.489842</td>\n",
       "      <td>7.362758</td>\n",
       "    </tr>\n",
       "    <tr>\n",
       "      <th>446800</th>\n",
       "      <td>4.468004</td>\n",
       "      <td>6.234000</td>\n",
       "    </tr>\n",
       "    <tr>\n",
       "      <th>170199</th>\n",
       "      <td>1.701992</td>\n",
       "      <td>4.624106</td>\n",
       "    </tr>\n",
       "    <tr>\n",
       "      <th>722590</th>\n",
       "      <td>7.225907</td>\n",
       "      <td>9.007966</td>\n",
       "    </tr>\n",
       "    <tr>\n",
       "      <th>891896</th>\n",
       "      <td>8.918969</td>\n",
       "      <td>10.013607</td>\n",
       "    </tr>\n",
       "    <tr>\n",
       "      <th>198897</th>\n",
       "      <td>1.988972</td>\n",
       "      <td>6.691329</td>\n",
       "    </tr>\n",
       "    <tr>\n",
       "      <th>366941</th>\n",
       "      <td>3.669414</td>\n",
       "      <td>6.879181</td>\n",
       "    </tr>\n",
       "    <tr>\n",
       "      <th>421195</th>\n",
       "      <td>4.211954</td>\n",
       "      <td>7.383977</td>\n",
       "    </tr>\n",
       "    <tr>\n",
       "      <th>583830</th>\n",
       "      <td>5.838306</td>\n",
       "      <td>8.276199</td>\n",
       "    </tr>\n",
       "    <tr>\n",
       "      <th>215231</th>\n",
       "      <td>2.152312</td>\n",
       "      <td>6.648514</td>\n",
       "    </tr>\n",
       "    <tr>\n",
       "      <th>431141</th>\n",
       "      <td>4.311414</td>\n",
       "      <td>7.205627</td>\n",
       "    </tr>\n",
       "    <tr>\n",
       "      <th>951284</th>\n",
       "      <td>9.512850</td>\n",
       "      <td>10.226214</td>\n",
       "    </tr>\n",
       "    <tr>\n",
       "      <th>49921</th>\n",
       "      <td>0.499210</td>\n",
       "      <td>4.671535</td>\n",
       "    </tr>\n",
       "    <tr>\n",
       "      <th>112453</th>\n",
       "      <td>1.124531</td>\n",
       "      <td>5.337549</td>\n",
       "    </tr>\n",
       "    <tr>\n",
       "      <th>922837</th>\n",
       "      <td>9.228379</td>\n",
       "      <td>9.025547</td>\n",
       "    </tr>\n",
       "    <tr>\n",
       "      <th>200364</th>\n",
       "      <td>2.003642</td>\n",
       "      <td>5.087011</td>\n",
       "    </tr>\n",
       "    <tr>\n",
       "      <th>434548</th>\n",
       "      <td>4.345484</td>\n",
       "      <td>6.105153</td>\n",
       "    </tr>\n",
       "    <tr>\n",
       "      <th>375476</th>\n",
       "      <td>3.754764</td>\n",
       "      <td>8.014788</td>\n",
       "    </tr>\n",
       "    <tr>\n",
       "      <th>835785</th>\n",
       "      <td>8.357858</td>\n",
       "      <td>9.202361</td>\n",
       "    </tr>\n",
       "    <tr>\n",
       "      <th>983562</th>\n",
       "      <td>9.835630</td>\n",
       "      <td>8.233849</td>\n",
       "    </tr>\n",
       "    <tr>\n",
       "      <th>393670</th>\n",
       "      <td>3.936704</td>\n",
       "      <td>5.874271</td>\n",
       "    </tr>\n",
       "    <tr>\n",
       "      <th>64591</th>\n",
       "      <td>0.645911</td>\n",
       "      <td>4.430895</td>\n",
       "    </tr>\n",
       "    <tr>\n",
       "      <th>643061</th>\n",
       "      <td>6.430616</td>\n",
       "      <td>8.462887</td>\n",
       "    </tr>\n",
       "    <tr>\n",
       "      <th>...</th>\n",
       "      <td>...</td>\n",
       "      <td>...</td>\n",
       "    </tr>\n",
       "    <tr>\n",
       "      <th>973743</th>\n",
       "      <td>9.737440</td>\n",
       "      <td>8.866696</td>\n",
       "    </tr>\n",
       "    <tr>\n",
       "      <th>662447</th>\n",
       "      <td>6.624477</td>\n",
       "      <td>9.969263</td>\n",
       "    </tr>\n",
       "    <tr>\n",
       "      <th>672960</th>\n",
       "      <td>6.729607</td>\n",
       "      <td>8.691302</td>\n",
       "    </tr>\n",
       "    <tr>\n",
       "      <th>638734</th>\n",
       "      <td>6.387346</td>\n",
       "      <td>8.008869</td>\n",
       "    </tr>\n",
       "    <tr>\n",
       "      <th>774427</th>\n",
       "      <td>7.744278</td>\n",
       "      <td>8.245888</td>\n",
       "    </tr>\n",
       "    <tr>\n",
       "      <th>396592</th>\n",
       "      <td>3.965924</td>\n",
       "      <td>6.506981</td>\n",
       "    </tr>\n",
       "    <tr>\n",
       "      <th>942206</th>\n",
       "      <td>9.422069</td>\n",
       "      <td>9.974004</td>\n",
       "    </tr>\n",
       "    <tr>\n",
       "      <th>96681</th>\n",
       "      <td>0.966811</td>\n",
       "      <td>5.095005</td>\n",
       "    </tr>\n",
       "    <tr>\n",
       "      <th>175686</th>\n",
       "      <td>1.756862</td>\n",
       "      <td>6.608377</td>\n",
       "    </tr>\n",
       "    <tr>\n",
       "      <th>152616</th>\n",
       "      <td>1.526162</td>\n",
       "      <td>5.488259</td>\n",
       "    </tr>\n",
       "    <tr>\n",
       "      <th>743625</th>\n",
       "      <td>7.436257</td>\n",
       "      <td>10.344251</td>\n",
       "    </tr>\n",
       "    <tr>\n",
       "      <th>969323</th>\n",
       "      <td>9.693240</td>\n",
       "      <td>7.833164</td>\n",
       "    </tr>\n",
       "    <tr>\n",
       "      <th>932006</th>\n",
       "      <td>9.320069</td>\n",
       "      <td>10.403936</td>\n",
       "    </tr>\n",
       "    <tr>\n",
       "      <th>892211</th>\n",
       "      <td>8.922119</td>\n",
       "      <td>9.617136</td>\n",
       "    </tr>\n",
       "    <tr>\n",
       "      <th>900449</th>\n",
       "      <td>9.004499</td>\n",
       "      <td>10.633291</td>\n",
       "    </tr>\n",
       "    <tr>\n",
       "      <th>981692</th>\n",
       "      <td>9.816930</td>\n",
       "      <td>10.466244</td>\n",
       "    </tr>\n",
       "    <tr>\n",
       "      <th>140451</th>\n",
       "      <td>1.404511</td>\n",
       "      <td>5.838010</td>\n",
       "    </tr>\n",
       "    <tr>\n",
       "      <th>75139</th>\n",
       "      <td>0.751391</td>\n",
       "      <td>4.198013</td>\n",
       "    </tr>\n",
       "    <tr>\n",
       "      <th>988948</th>\n",
       "      <td>9.889490</td>\n",
       "      <td>9.962259</td>\n",
       "    </tr>\n",
       "    <tr>\n",
       "      <th>918147</th>\n",
       "      <td>9.181479</td>\n",
       "      <td>7.972824</td>\n",
       "    </tr>\n",
       "    <tr>\n",
       "      <th>612958</th>\n",
       "      <td>6.129586</td>\n",
       "      <td>8.048048</td>\n",
       "    </tr>\n",
       "    <tr>\n",
       "      <th>125304</th>\n",
       "      <td>1.253041</td>\n",
       "      <td>5.408614</td>\n",
       "    </tr>\n",
       "    <tr>\n",
       "      <th>645416</th>\n",
       "      <td>6.454166</td>\n",
       "      <td>8.444416</td>\n",
       "    </tr>\n",
       "    <tr>\n",
       "      <th>666752</th>\n",
       "      <td>6.667527</td>\n",
       "      <td>10.192905</td>\n",
       "    </tr>\n",
       "    <tr>\n",
       "      <th>289707</th>\n",
       "      <td>2.897073</td>\n",
       "      <td>8.017607</td>\n",
       "    </tr>\n",
       "    <tr>\n",
       "      <th>627951</th>\n",
       "      <td>6.279516</td>\n",
       "      <td>7.831761</td>\n",
       "    </tr>\n",
       "    <tr>\n",
       "      <th>216677</th>\n",
       "      <td>2.166772</td>\n",
       "      <td>7.314549</td>\n",
       "    </tr>\n",
       "    <tr>\n",
       "      <th>29747</th>\n",
       "      <td>0.297470</td>\n",
       "      <td>3.098871</td>\n",
       "    </tr>\n",
       "    <tr>\n",
       "      <th>81375</th>\n",
       "      <td>0.813751</td>\n",
       "      <td>3.094729</td>\n",
       "    </tr>\n",
       "    <tr>\n",
       "      <th>877923</th>\n",
       "      <td>8.779239</td>\n",
       "      <td>8.955152</td>\n",
       "    </tr>\n",
       "  </tbody>\n",
       "</table>\n",
       "<p>250 rows × 2 columns</p>\n",
       "</div>"
      ],
      "text/plain": [
       "          X Data          Y\n",
       "742994  7.429947   9.398650\n",
       "485218  4.852185   6.923553\n",
       "644153  6.441536   8.774368\n",
       "526209  5.262095   8.754957\n",
       "635423  6.354236   6.592635\n",
       "611892  6.118926   9.696810\n",
       "658127  6.581277   9.367344\n",
       "248984  2.489842   7.362758\n",
       "446800  4.468004   6.234000\n",
       "170199  1.701992   4.624106\n",
       "722590  7.225907   9.007966\n",
       "891896  8.918969  10.013607\n",
       "198897  1.988972   6.691329\n",
       "366941  3.669414   6.879181\n",
       "421195  4.211954   7.383977\n",
       "583830  5.838306   8.276199\n",
       "215231  2.152312   6.648514\n",
       "431141  4.311414   7.205627\n",
       "951284  9.512850  10.226214\n",
       "49921   0.499210   4.671535\n",
       "112453  1.124531   5.337549\n",
       "922837  9.228379   9.025547\n",
       "200364  2.003642   5.087011\n",
       "434548  4.345484   6.105153\n",
       "375476  3.754764   8.014788\n",
       "835785  8.357858   9.202361\n",
       "983562  9.835630   8.233849\n",
       "393670  3.936704   5.874271\n",
       "64591   0.645911   4.430895\n",
       "643061  6.430616   8.462887\n",
       "...          ...        ...\n",
       "973743  9.737440   8.866696\n",
       "662447  6.624477   9.969263\n",
       "672960  6.729607   8.691302\n",
       "638734  6.387346   8.008869\n",
       "774427  7.744278   8.245888\n",
       "396592  3.965924   6.506981\n",
       "942206  9.422069   9.974004\n",
       "96681   0.966811   5.095005\n",
       "175686  1.756862   6.608377\n",
       "152616  1.526162   5.488259\n",
       "743625  7.436257  10.344251\n",
       "969323  9.693240   7.833164\n",
       "932006  9.320069  10.403936\n",
       "892211  8.922119   9.617136\n",
       "900449  9.004499  10.633291\n",
       "981692  9.816930  10.466244\n",
       "140451  1.404511   5.838010\n",
       "75139   0.751391   4.198013\n",
       "988948  9.889490   9.962259\n",
       "918147  9.181479   7.972824\n",
       "612958  6.129586   8.048048\n",
       "125304  1.253041   5.408614\n",
       "645416  6.454166   8.444416\n",
       "666752  6.667527  10.192905\n",
       "289707  2.897073   8.017607\n",
       "627951  6.279516   7.831761\n",
       "216677  2.166772   7.314549\n",
       "29747   0.297470   3.098871\n",
       "81375   0.813751   3.094729\n",
       "877923  8.779239   8.955152\n",
       "\n",
       "[250 rows x 2 columns]"
      ]
     },
     "execution_count": 27,
     "metadata": {},
     "output_type": "execute_result"
    }
   ],
   "source": [
    "my_data.sample(n=250) # random samples"
   ]
  },
  {
   "cell_type": "code",
   "execution_count": 35,
   "metadata": {},
   "outputs": [
    {
     "data": {
      "text/plain": [
       "<matplotlib.axes._subplots.AxesSubplot at 0x128380a58>"
      ]
     },
     "execution_count": 35,
     "metadata": {},
     "output_type": "execute_result"
    },
    {
     "data": {
      "image/png": "[encoded data removed]",
      "text/plain": [
       "<matplotlib.figure.Figure at 0x12837f0b8>"
      ]
     },
     "metadata": {},
     "output_type": "display_data"
    }
   ],
   "source": [
    "my_data.sample(n=250).plot(kind='scatter',x='X Data',y='Y')"
   ]
  },
  {
   "cell_type": "markdown",
   "metadata": {},
   "source": [
    "#### si la cantidad de datos es muy grande, se hacen batches para que la maquina aprenda de a poquitos y no se demore mucho al leer un millon de datos de una"
   ]
  },
  {
   "cell_type": "code",
   "execution_count": 30,
   "metadata": {
    "collapsed": true
   },
   "outputs": [],
   "source": [
    "batch_size = 8"
   ]
  },
  {
   "cell_type": "code",
   "execution_count": 36,
   "metadata": {},
   "outputs": [
    {
     "data": {
      "text/plain": [
       "array([-0.75781869,  1.37928974])"
      ]
     },
     "execution_count": 36,
     "metadata": {},
     "output_type": "execute_result"
    }
   ],
   "source": [
    "np.random.randn(2)"
   ]
  },
  {
   "cell_type": "markdown",
   "metadata": {},
   "source": [
    "## 1. Variables"
   ]
  },
  {
   "cell_type": "code",
   "execution_count": 37,
   "metadata": {
    "collapsed": true
   },
   "outputs": [],
   "source": [
    "m = tf.Variable(-1.64)\n",
    "b = tf.Variable(1.49)"
   ]
  },
  {
   "cell_type": "markdown",
   "metadata": {},
   "source": [
    "## 2. Placeholders"
   ]
  },
  {
   "cell_type": "code",
   "execution_count": 33,
   "metadata": {
    "collapsed": true
   },
   "outputs": [],
   "source": [
    "xph = tf.placeholder(tf.float32, [batch_size])"
   ]
  },
  {
   "cell_type": "code",
   "execution_count": 34,
   "metadata": {
    "collapsed": true
   },
   "outputs": [],
   "source": [
    "yph = tf.placeholder(tf.float32, [batch_size])"
   ]
  },
  {
   "cell_type": "markdown",
   "metadata": {},
   "source": [
    "## 3. Error and Optimization"
   ]
  },
  {
   "cell_type": "code",
   "execution_count": 38,
   "metadata": {
    "collapsed": true
   },
   "outputs": [],
   "source": [
    "y_model = m * xph + b"
   ]
  },
  {
   "cell_type": "code",
   "execution_count": 39,
   "metadata": {
    "collapsed": true
   },
   "outputs": [],
   "source": [
    "error = tf.reduce_sum(tf.square(yph - y_model))"
   ]
  },
  {
   "cell_type": "code",
   "execution_count": 40,
   "metadata": {
    "collapsed": true
   },
   "outputs": [],
   "source": [
    "optimizer = tf.train.GradientDescentOptimizer(learning_rate=0.001)\n",
    "\n",
    "train = optimizer.minimize(error)"
   ]
  },
  {
   "cell_type": "markdown",
   "metadata": {},
   "source": [
    "## 4. Instantiate"
   ]
  },
  {
   "cell_type": "code",
   "execution_count": 41,
   "metadata": {
    "collapsed": true
   },
   "outputs": [],
   "source": [
    "init = tf.global_variables_initializer()"
   ]
  },
  {
   "cell_type": "code",
   "execution_count": 63,
   "metadata": {
    "collapsed": true
   },
   "outputs": [],
   "source": [
    "with tf.Session() as sess:\n",
    "    \n",
    "    sess.run(init)\n",
    "    \n",
    "    batches = 1000 # each batch is a data point\n",
    "    \n",
    "    for i in range(batches):\n",
    "        \n",
    "        rand_index = np.random.randint(len(x_data), size=batch_size)\n",
    "        \n",
    "        feed = {\n",
    "            xph: x_data[rand_index] ,\n",
    "            yph: y_true[rand_index]\n",
    "        }\n",
    "        \n",
    "        sess.run(train, feed_dict=feed)\n",
    "        \n",
    "    model_m, model_b = sess.run([m,b])\n",
    "        "
   ]
  },
  {
   "cell_type": "code",
   "execution_count": 64,
   "metadata": {},
   "outputs": [
    {
     "data": {
      "text/plain": [
       "0.48636001"
      ]
     },
     "execution_count": 64,
     "metadata": {},
     "output_type": "execute_result"
    }
   ],
   "source": [
    "model_m # should be 0.5"
   ]
  },
  {
   "cell_type": "code",
   "execution_count": 65,
   "metadata": {},
   "outputs": [
    {
     "data": {
      "text/plain": [
       "4.9820256"
      ]
     },
     "execution_count": 65,
     "metadata": {},
     "output_type": "execute_result"
    }
   ],
   "source": [
    "model_b # should be 5"
   ]
  },
  {
   "cell_type": "markdown",
   "metadata": {},
   "source": [
    "## 5. Graph Results"
   ]
  },
  {
   "cell_type": "code",
   "execution_count": 66,
   "metadata": {
    "collapsed": true
   },
   "outputs": [],
   "source": [
    "y_hat = x_data * model_m + model_b"
   ]
  },
  {
   "cell_type": "code",
   "execution_count": 67,
   "metadata": {},
   "outputs": [
    {
     "data": {
      "text/plain": [
       "[<matplotlib.lines.Line2D at 0x129112320>]"
      ]
     },
     "execution_count": 67,
     "metadata": {},
     "output_type": "execute_result"
    },
    {
     "data": {
      "image/png": "[encoded data removed]",
      "text/plain": [
       "<matplotlib.figure.Figure at 0x11f88af60>"
      ]
     },
     "metadata": {},
     "output_type": "display_data"
    }
   ],
   "source": [
    "my_data.sample(250).plot(kind='scatter',x='X Data',y='Y')\n",
    "plt.plot(x_data, y_hat, 'r')"
   ]
  },
  {
   "cell_type": "code",
   "execution_count": null,
   "metadata": {
    "collapsed": true
   },
   "outputs": [],
   "source": []
  }
 ],
 "metadata": {
  "kernelspec": {
   "display_name": "Python 3",
   "language": "python",
   "name": "python3"
  },
  "language_info": {
   "codemirror_mode": {
    "name": "ipython",
    "version": 3
   },
   "file_extension": ".py",
   "mimetype": "text/x-python",
   "name": "python",
   "nbconvert_exporter": "python",
   "pygments_lexer": "ipython3",
   "version": "3.5.4"
  }
 },
 "nbformat": 4,
 "nbformat_minor": 2
}
