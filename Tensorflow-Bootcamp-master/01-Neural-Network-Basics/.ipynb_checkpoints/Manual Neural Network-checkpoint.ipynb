{
 "cells": [
  {
   "cell_type": "markdown",
   "metadata": {},
   "source": [
    "# Manual Neural Network\n",
    "\n",
    "In this notebook we will manually build out a neural network that mimics the TensorFlow API. This will greatly help your understanding when working with the real TensorFlow!"
   ]
  },
  {
   "cell_type": "markdown",
   "metadata": {},
   "source": [
    "____\n",
    "### Quick Note on Super() and OOP"
   ]
  },
  {
   "cell_type": "code",
   "execution_count": 5,
   "metadata": {
    "collapsed": true
   },
   "outputs": [],
   "source": [
    "class SimpleClass():\n",
    "    \n",
    "    def __init__(self,str_input):\n",
    "        print(\"SIMPLE\"+str_input)"
   ]
  },
  {
   "cell_type": "code",
   "execution_count": 6,
   "metadata": {
    "collapsed": true
   },
   "outputs": [],
   "source": [
    "class ExtendedClass(SimpleClass):\n",
    "    \n",
    "    def __init__(self):\n",
    "        print('EXTENDED')"
   ]
  },
  {
   "cell_type": "code",
   "execution_count": 7,
   "metadata": {},
   "outputs": [
    {
     "name": "stdout",
     "output_type": "stream",
     "text": [
      "EXTENDED\n"
     ]
    }
   ],
   "source": [
    "s = ExtendedClass()"
   ]
  },
  {
   "cell_type": "code",
   "execution_count": 8,
   "metadata": {
    "collapsed": true
   },
   "outputs": [],
   "source": [
    "class ExtendedClass(SimpleClass):\n",
    "    \n",
    "    def __init__(self):\n",
    "        \n",
    "        super().__init__(\" My String\")\n",
    "        print('EXTENDED')"
   ]
  },
  {
   "cell_type": "code",
   "execution_count": 9,
   "metadata": {},
   "outputs": [
    {
     "name": "stdout",
     "output_type": "stream",
     "text": [
      "SIMPLE My String\n",
      "EXTENDED\n"
     ]
    }
   ],
   "source": [
    "s = ExtendedClass()"
   ]
  },
  {
   "cell_type": "markdown",
   "metadata": {},
   "source": [
    "________"
   ]
  },
  {
   "cell_type": "markdown",
   "metadata": {},
   "source": [
    "## Operation"
   ]
  },
  {
   "cell_type": "code",
   "execution_count": 10,
   "metadata": {
    "collapsed": true
   },
   "outputs": [],
   "source": [
    "class Operation():\n",
    "    \"\"\"\n",
    "    An Operation is a node in a \"Graph\". TensorFlow will also use this concept of a Graph.\n",
    "    \n",
    "    This Operation class will be inherited by other classes that actually compute the specific\n",
    "    operation, such as adding or matrix multiplication.\n",
    "    \"\"\"\n",
    "    \n",
    "    def __init__(self, input_nodes = []):\n",
    "        \"\"\"\n",
    "        Intialize an Operation\n",
    "        \"\"\"\n",
    "        self.input_nodes = input_nodes # The list of input nodes\n",
    "        self.output_nodes = [] # List of nodes consuming this node's output\n",
    "        \n",
    "        # For every node in the input, we append this operation (self) to the list of\n",
    "        # the consumers of the input nodes\n",
    "        for node in input_nodes:\n",
    "            node.output_nodes.append(self)\n",
    "        \n",
    "        # There will be a global default graph (TensorFlow works this way)\n",
    "        # We will then append this particular operation\n",
    "        # Append this operation to the list of operations in the currently active default graph\n",
    "        _default_graph.operations.append(self)\n",
    "  \n",
    "    def compute(self):\n",
    "        \"\"\" \n",
    "        This is a placeholder function. It will be overwritten by the actual specific operation\n",
    "        that inherits from this class.\n",
    "        \n",
    "        \"\"\"\n",
    "        \n",
    "        pass"
   ]
  },
  {
   "cell_type": "markdown",
   "metadata": {},
   "source": [
    "## Example Operations\n",
    "\n",
    "### Addition"
   ]
  },
  {
   "cell_type": "code",
   "execution_count": 11,
   "metadata": {
    "collapsed": true
   },
   "outputs": [],
   "source": [
    "class add(Operation):\n",
    "    \n",
    "    def __init__(self, x, y):\n",
    "         \n",
    "        super().__init__([x, y])\n",
    "\n",
    "    def compute(self, a, b):\n",
    "         \n",
    "        self.inputs = [a, b]\n",
    "        return a + b"
   ]
  },
  {
   "cell_type": "markdown",
   "metadata": {},
   "source": [
    "### Multiplication"
   ]
  },
  {
   "cell_type": "code",
   "execution_count": 12,
   "metadata": {
    "collapsed": true
   },
   "outputs": [],
   "source": [
    "class multiply(Operation):\n",
    "     \n",
    "    def __init__(self, a, b):\n",
    "        \n",
    "        super().__init__([a, b])\n",
    "    \n",
    "    def compute(self, a, b):\n",
    "         \n",
    "        self.inputs = [a, b]\n",
    "        return a * b"
   ]
  },
  {
   "cell_type": "markdown",
   "metadata": {},
   "source": [
    "### Matrix Multiplication"
   ]
  },
  {
   "cell_type": "code",
   "execution_count": 13,
   "metadata": {
    "collapsed": true
   },
   "outputs": [],
   "source": [
    "class matmul(Operation):\n",
    "     \n",
    "    def __init__(self, a, b):\n",
    "        \n",
    "        super().__init__([a, b])\n",
    "    \n",
    "    def compute(self, a_mat, b_mat):\n",
    "         \n",
    "        self.inputs = [a_mat, b_mat]\n",
    "        return a_mat.dot(b_mat)"
   ]
  },
  {
   "cell_type": "markdown",
   "metadata": {},
   "source": [
    "## Placeholders"
   ]
  },
  {
   "cell_type": "code",
   "execution_count": 14,
   "metadata": {
    "collapsed": true
   },
   "outputs": [],
   "source": [
    "class Placeholder():\n",
    "    \"\"\"\n",
    "    A placeholder is a node that needs to be provided a value for computing the output in the Graph.\n",
    "    \"\"\"\n",
    "    \n",
    "    def __init__(self):\n",
    "        \n",
    "        self.output_nodes = []\n",
    "        \n",
    "        _default_graph.placeholders.append(self)"
   ]
  },
  {
   "cell_type": "markdown",
   "metadata": {},
   "source": [
    "## Variables"
   ]
  },
  {
   "cell_type": "code",
   "execution_count": 15,
   "metadata": {
    "collapsed": true
   },
   "outputs": [],
   "source": [
    "class Variable():\n",
    "    \"\"\"\n",
    "    This variable is a changeable parameter of the Graph.\n",
    "    \"\"\"\n",
    "    \n",
    "    def __init__(self, initial_value = None):\n",
    "        \n",
    "        self.value = initial_value\n",
    "        self.output_nodes = []\n",
    "        \n",
    "         \n",
    "        _default_graph.variables.append(self)"
   ]
  },
  {
   "cell_type": "markdown",
   "metadata": {},
   "source": [
    "## Graph"
   ]
  },
  {
   "cell_type": "code",
   "execution_count": 16,
   "metadata": {
    "collapsed": true
   },
   "outputs": [],
   "source": [
    "class Graph():\n",
    "    \n",
    "    \n",
    "    def __init__(self):\n",
    "        \n",
    "        self.operations = []\n",
    "        self.placeholders = []\n",
    "        self.variables = []\n",
    "        \n",
    "    def set_as_default(self):\n",
    "        \"\"\"\n",
    "        Sets this Graph instance as the Global Default Graph\n",
    "        \"\"\"\n",
    "        global _default_graph\n",
    "        _default_graph = self"
   ]
  },
  {
   "cell_type": "markdown",
   "metadata": {},
   "source": [
    "## A Basic Graph\n",
    "\n",
    "$$ z = Ax + b $$\n",
    "\n",
    "With A=10 and b=1\n",
    "\n",
    "$$ z = 10x + 1 $$\n",
    "\n",
    "Just need a placeholder for x and then once x is filled in we can solve it!"
   ]
  },
  {
   "cell_type": "code",
   "execution_count": 17,
   "metadata": {
    "collapsed": true
   },
   "outputs": [],
   "source": [
    "g = Graph()"
   ]
  },
  {
   "cell_type": "code",
   "execution_count": 18,
   "metadata": {
    "collapsed": true
   },
   "outputs": [],
   "source": [
    "g.set_as_default()"
   ]
  },
  {
   "cell_type": "code",
   "execution_count": 19,
   "metadata": {
    "collapsed": true
   },
   "outputs": [],
   "source": [
    "A = Variable(10)"
   ]
  },
  {
   "cell_type": "code",
   "execution_count": 20,
   "metadata": {
    "collapsed": true
   },
   "outputs": [],
   "source": [
    "b = Variable(1)"
   ]
  },
  {
   "cell_type": "code",
   "execution_count": 21,
   "metadata": {
    "collapsed": true
   },
   "outputs": [],
   "source": [
    "# Will be filled out later\n",
    "x = Placeholder()"
   ]
  },
  {
   "cell_type": "code",
   "execution_count": 22,
   "metadata": {
    "collapsed": true
   },
   "outputs": [],
   "source": [
    "y = multiply(A,x)"
   ]
  },
  {
   "cell_type": "code",
   "execution_count": 23,
   "metadata": {
    "collapsed": true
   },
   "outputs": [],
   "source": [
    "z = add(y,b)"
   ]
  },
  {
   "cell_type": "markdown",
   "metadata": {},
   "source": [
    "## Session"
   ]
  },
  {
   "cell_type": "code",
   "execution_count": 24,
   "metadata": {
    "collapsed": true
   },
   "outputs": [],
   "source": [
    "import numpy as np"
   ]
  },
  {
   "cell_type": "markdown",
   "metadata": {},
   "source": [
    "### Traversing Operation Nodes"
   ]
  },
  {
   "cell_type": "code",
   "execution_count": 25,
   "metadata": {
    "collapsed": true
   },
   "outputs": [],
   "source": [
    "def traverse_postorder(operation):\n",
    "    \"\"\" \n",
    "    PostOrder Traversal of Nodes. Basically makes sure computations are done in \n",
    "    the correct order (Ax first , then Ax + b). Feel free to copy and paste this code.\n",
    "    It is not super important for understanding the basic fundamentals of deep learning.\n",
    "    \"\"\"\n",
    "    \n",
    "    nodes_postorder = []\n",
    "    def recurse(node):\n",
    "        if isinstance(node, Operation):\n",
    "            for input_node in node.input_nodes:\n",
    "                recurse(input_node)\n",
    "        nodes_postorder.append(node)\n",
    "\n",
    "    recurse(operation)\n",
    "    return nodes_postorder"
   ]
  },
  {
   "cell_type": "code",
   "execution_count": 26,
   "metadata": {
    "collapsed": true
   },
   "outputs": [],
   "source": [
    "class Session:\n",
    "    \n",
    "    def run(self, operation, feed_dict = {}):\n",
    "        \"\"\" \n",
    "          operation: The operation to compute\n",
    "          feed_dict: Dictionary mapping placeholders to input values (the data)  \n",
    "        \"\"\"\n",
    "        \n",
    "        # Puts nodes in correct order\n",
    "        nodes_postorder = traverse_postorder(operation)\n",
    "        \n",
    "        for node in nodes_postorder:\n",
    "\n",
    "            if type(node) == Placeholder:\n",
    "                \n",
    "                node.output = feed_dict[node]\n",
    "                \n",
    "            elif type(node) == Variable:\n",
    "                \n",
    "                node.output = node.value\n",
    "                \n",
    "            else: # Operation\n",
    "                \n",
    "                node.inputs = [input_node.output for input_node in node.input_nodes]\n",
    "\n",
    "                 \n",
    "                node.output = node.compute(*node.inputs)\n",
    "                \n",
    "            # Convert lists to numpy arrays\n",
    "            if type(node.output) == list:\n",
    "                node.output = np.array(node.output)\n",
    "        \n",
    "        # Return the requested node value\n",
    "        return operation.output\n",
    "\n",
    "\n"
   ]
  },
  {
   "cell_type": "code",
   "execution_count": 27,
   "metadata": {
    "collapsed": true
   },
   "outputs": [],
   "source": [
    "sess = Session()"
   ]
  },
  {
   "cell_type": "code",
   "execution_count": 34,
   "metadata": {
    "collapsed": true
   },
   "outputs": [],
   "source": [
    "result = sess.run(operation=z,feed_dict={x:10})"
   ]
  },
  {
   "cell_type": "code",
   "execution_count": 35,
   "metadata": {},
   "outputs": [
    {
     "data": {
      "text/plain": [
       "101"
      ]
     },
     "execution_count": 35,
     "metadata": {},
     "output_type": "execute_result"
    }
   ],
   "source": [
    "result"
   ]
  },
  {
   "cell_type": "code",
   "execution_count": 36,
   "metadata": {},
   "outputs": [
    {
     "data": {
      "text/plain": [
       "101"
      ]
     },
     "execution_count": 36,
     "metadata": {},
     "output_type": "execute_result"
    }
   ],
   "source": [
    "10*10 + 1"
   ]
  },
  {
   "cell_type": "markdown",
   "metadata": {},
   "source": [
    "** Looks like we did it! **"
   ]
  },
  {
   "cell_type": "code",
   "execution_count": 27,
   "metadata": {
    "collapsed": true
   },
   "outputs": [],
   "source": [
    "g = Graph()\n",
    "\n",
    "g.set_as_default()\n",
    "\n",
    "A = Variable([[10,20],[30,40]])\n",
    "b = Variable([1,1])\n",
    "\n",
    "x = Placeholder()\n",
    "\n",
    "y = matmul(A,x)\n",
    "\n",
    "z = add(y,b)\n"
   ]
  },
  {
   "cell_type": "code",
   "execution_count": 28,
   "metadata": {
    "collapsed": true
   },
   "outputs": [],
   "source": [
    "sess = Session()"
   ]
  },
  {
   "cell_type": "code",
   "execution_count": 29,
   "metadata": {
    "collapsed": true
   },
   "outputs": [],
   "source": [
    "result = sess.run(operation=z,feed_dict={x:10})"
   ]
  },
  {
   "cell_type": "code",
   "execution_count": 30,
   "metadata": {},
   "outputs": [
    {
     "data": {
      "text/plain": [
       "array([[101, 201],\n",
       "       [301, 401]])"
      ]
     },
     "execution_count": 30,
     "metadata": {},
     "output_type": "execute_result"
    }
   ],
   "source": [
    "result"
   ]
  },
  {
   "cell_type": "markdown",
   "metadata": {},
   "source": [
    "## Activation Function"
   ]
  },
  {
   "cell_type": "code",
   "execution_count": 38,
   "metadata": {
    "collapsed": true
   },
   "outputs": [],
   "source": [
    "import matplotlib.pyplot as plt\n",
    "%matplotlib inline"
   ]
  },
  {
   "cell_type": "code",
   "execution_count": 39,
   "metadata": {
    "collapsed": true
   },
   "outputs": [],
   "source": [
    "def sigmoid(z):\n",
    "    return 1/(1+np.exp(-z))"
   ]
  },
  {
   "cell_type": "code",
   "execution_count": 41,
   "metadata": {},
   "outputs": [],
   "source": [
    "sample_z = np.linspace(-10,10,100)\n",
    "sample_a = sigmoid(sample_z)"
   ]
  },
  {
   "cell_type": "code",
   "execution_count": 42,
   "metadata": {},
   "outputs": [
    {
     "data": {
      "text/plain": [
       "[<matplotlib.lines.Line2D at 0x115996b38>]"
      ]
     },
     "execution_count": 42,
     "metadata": {},
     "output_type": "execute_result"
    },
    {
     "data": {
      "image/png": "[encoded data removed]",
      "text/plain": [
       "<matplotlib.figure.Figure at 0x1126542b0>"
      ]
     },
     "metadata": {},
     "output_type": "display_data"
    }
   ],
   "source": [
    "plt.plot(sample_z,sample_a)"
   ]
  },
  {
   "cell_type": "markdown",
   "metadata": {},
   "source": [
    "#### Sigmoid as an Operation"
   ]
  },
  {
   "cell_type": "code",
   "execution_count": 44,
   "metadata": {
    "collapsed": true
   },
   "outputs": [],
   "source": [
    "class Sigmoid(Operation):\n",
    " \n",
    "    \n",
    "    def __init__(self, z):\n",
    "\n",
    "        # a is the input node\n",
    "        super().__init__([z])\n",
    "\n",
    "    def compute(self, z_val):\n",
    "        \n",
    "        return 1/(1+np.exp(-z_val))"
   ]
  },
  {
   "cell_type": "markdown",
   "metadata": {},
   "source": [
    "## Classification Example"
   ]
  },
  {
   "cell_type": "code",
   "execution_count": 45,
   "metadata": {
    "collapsed": true
   },
   "outputs": [],
   "source": [
    "from sklearn.datasets import make_blobs"
   ]
  },
  {
   "cell_type": "code",
   "execution_count": 48,
   "metadata": {
    "collapsed": true
   },
   "outputs": [],
   "source": [
    "data = make_blobs(n_samples = 50,n_features=2,centers=2,random_state=75)"
   ]
  },
  {
   "cell_type": "code",
   "execution_count": 49,
   "metadata": {},
   "outputs": [
    {
     "data": {
      "text/plain": [
       "(array([[  7.3402781 ,   9.36149154],\n",
       "        [  9.13332743,   8.74906102],\n",
       "        [  1.99243535,  -8.85885722],\n",
       "        [  7.38443759,   7.72520389],\n",
       "        [  7.97613887,   8.80878209],\n",
       "        [  7.76974352,   9.50899462],\n",
       "        [  8.3186688 ,  10.1026025 ],\n",
       "        [  8.79588546,   7.28046702],\n",
       "        [  9.81270381,   9.46968531],\n",
       "        [  1.57961049,  -8.17089971],\n",
       "        [  0.06441546,  -9.04982817],\n",
       "        [  7.2075117 ,   7.04533624],\n",
       "        [  9.10704928,   9.0272212 ],\n",
       "        [  1.82921897,  -9.86956281],\n",
       "        [  7.85036314,   7.986659  ],\n",
       "        [  3.04605603,  -7.50486114],\n",
       "        [  1.85582689,  -6.74473432],\n",
       "        [  2.88603902,  -8.85261704],\n",
       "        [ -1.20046211,  -9.55928542],\n",
       "        [  2.00890845,  -9.78471782],\n",
       "        [  7.68945113,   9.01706723],\n",
       "        [  6.42356167,   8.33356412],\n",
       "        [  8.15467319,   7.87489634],\n",
       "        [  1.92000795,  -7.50953708],\n",
       "        [  1.90073973,  -7.24386675],\n",
       "        [  7.7605855 ,   7.05124418],\n",
       "        [  6.90561582,   9.23493842],\n",
       "        [  0.65582768,  -9.5920878 ],\n",
       "        [  1.41804346,  -8.10517372],\n",
       "        [  9.65371965,   9.35409538],\n",
       "        [  1.23053506,  -7.98873571],\n",
       "        [  1.96322881,  -9.50169117],\n",
       "        [  6.11644251,   9.26709393],\n",
       "        [  7.70630321,  10.78862346],\n",
       "        [  0.79580385,  -9.00301023],\n",
       "        [  3.13114921,  -8.6849493 ],\n",
       "        [  1.3970852 ,  -7.25918415],\n",
       "        [  7.27808709,   7.15201886],\n",
       "        [  1.06965742,  -8.1648251 ],\n",
       "        [  6.37298915,   9.77705761],\n",
       "        [  7.24898455,   8.85834104],\n",
       "        [  2.09335725,  -7.66278316],\n",
       "        [  1.05865542,  -8.43841416],\n",
       "        [  6.43807502,   7.85483418],\n",
       "        [  6.94948313,   8.75248232],\n",
       "        [ -0.07326715, -11.69999644],\n",
       "        [  0.61463602,  -9.51908883],\n",
       "        [  1.31977821,  -7.2710667 ],\n",
       "        [  2.72532584,  -7.51956557],\n",
       "        [  8.20949206,  11.90419283]]),\n",
       " array([1, 1, 0, 1, 1, 1, 1, 1, 1, 0, 0, 1, 1, 0, 1, 0, 0, 0, 0, 0, 1, 1, 1,\n",
       "        0, 0, 1, 1, 0, 0, 1, 0, 0, 1, 1, 0, 0, 0, 1, 0, 1, 1, 0, 0, 1, 1, 0,\n",
       "        0, 0, 0, 1]))"
      ]
     },
     "execution_count": 49,
     "metadata": {},
     "output_type": "execute_result"
    }
   ],
   "source": [
    "data"
   ]
  },
  {
   "cell_type": "code",
   "execution_count": 52,
   "metadata": {},
   "outputs": [
    {
     "data": {
      "text/plain": [
       "<matplotlib.collections.PathCollection at 0x117c20358>"
      ]
     },
     "execution_count": 52,
     "metadata": {},
     "output_type": "execute_result"
    },
    {
     "data": {
      "image/png": "[encoded data removed]",
      "text/plain": [
       "<matplotlib.figure.Figure at 0x117beb3c8>"
      ]
     },
     "metadata": {},
     "output_type": "display_data"
    }
   ],
   "source": [
    "features = data[0]\n",
    "plt.scatter(features[:,0],features[:,1])"
   ]
  },
  {
   "cell_type": "code",
   "execution_count": 53,
   "metadata": {},
   "outputs": [
    {
     "data": {
      "text/plain": [
       "<matplotlib.collections.PathCollection at 0x117dcfb70>"
      ]
     },
     "execution_count": 53,
     "metadata": {},
     "output_type": "execute_result"
    },
    {
     "data": {
      "image/png": "[encoded data removed]",
      "text/plain": [
       "<matplotlib.figure.Figure at 0x117c310f0>"
      ]
     },
     "metadata": {},
     "output_type": "display_data"
    }
   ],
   "source": [
    "labels = data[1]\n",
    "plt.scatter(features[:,0],features[:,1],c=labels,cmap='winter')"
   ]
  },
  {
   "cell_type": "code",
   "execution_count": 59,
   "metadata": {},
   "outputs": [
    {
     "data": {
      "text/plain": [
       "[<matplotlib.lines.Line2D at 0x11820e978>]"
      ]
     },
     "execution_count": 59,
     "metadata": {},
     "output_type": "execute_result"
    },
    {
     "data": {
      "image/png": "[encoded data removed]",
      "text/plain": [
       "<matplotlib.figure.Figure at 0x11820ea20>"
      ]
     },
     "metadata": {},
     "output_type": "display_data"
    }
   ],
   "source": [
    "# DRAW A LINE THAT SEPERATES CLASSES\n",
    "x = np.linspace(-4,11,10)\n",
    "y = -x + 5\n",
    "plt.scatter(features[:,0],features[:,1],c=labels,cmap='winter')\n",
    "plt.plot(x,y)"
   ]
  },
  {
   "cell_type": "markdown",
   "metadata": {},
   "source": [
    "## Defining the Perceptron\n",
    "\n",
    "$$ y = mx + b $$\n",
    "\n",
    "$$ y = -x + 5 $$\n",
    "\n",
    "$$ f1 = mf2 + b , m=1$$\n",
    "\n",
    "$$ f1 = -f2 + 5 $$\n",
    "\n",
    "$$ f1 + f2 - 5 = 0 $$\n"
   ]
  },
  {
   "cell_type": "markdown",
   "metadata": {},
   "source": [
    "### Convert to a Matrix Representation of Features"
   ]
  },
  {
   "cell_type": "markdown",
   "metadata": {},
   "source": [
    "$$ w^Tx + b = 0 $$\n",
    "\n",
    "$$   \\Big(1, 1\\Big)f - 5 = 0 $$\n",
    "\n",
    "Then if the result is > 0 its label 1, if it is less than 0, it is label=0\n",
    "\n"
   ]
  },
  {
   "cell_type": "markdown",
   "metadata": {},
   "source": [
    "### Example Point\n",
    "\n",
    "Let's say we have the point f1=2 , f2=2 otherwise stated as (8,10). Then we have:\n",
    "\n",
    "$$ \n",
    "\\begin{pmatrix} \n",
    "1 , 1\n",
    "\\end{pmatrix} \n",
    "\\begin{pmatrix} \n",
    "8 \\\\\n",
    "10\n",
    "\\end{pmatrix} + 5 =  $$"
   ]
  },
  {
   "cell_type": "code",
   "execution_count": 60,
   "metadata": {},
   "outputs": [
    {
     "data": {
      "text/plain": [
       "array([13])"
      ]
     },
     "execution_count": 60,
     "metadata": {},
     "output_type": "execute_result"
    }
   ],
   "source": [
    "np.array([1, 1]).dot(np.array([[8],[10]])) - 5"
   ]
  },
  {
   "cell_type": "markdown",
   "metadata": {},
   "source": [
    "Or if we have (4,-10)"
   ]
  },
  {
   "cell_type": "code",
   "execution_count": 61,
   "metadata": {},
   "outputs": [
    {
     "data": {
      "text/plain": [
       "array([-11])"
      ]
     },
     "execution_count": 61,
     "metadata": {},
     "output_type": "execute_result"
    }
   ],
   "source": [
    "np.array([1,1]).dot(np.array([[4],[-10]])) - 5"
   ]
  },
  {
   "cell_type": "markdown",
   "metadata": {},
   "source": [
    "### Using an Example Session Graph"
   ]
  },
  {
   "cell_type": "code",
   "execution_count": 62,
   "metadata": {
    "collapsed": true
   },
   "outputs": [],
   "source": [
    "g = Graph()"
   ]
  },
  {
   "cell_type": "code",
   "execution_count": 63,
   "metadata": {
    "collapsed": true
   },
   "outputs": [],
   "source": [
    "g.set_as_default()"
   ]
  },
  {
   "cell_type": "code",
   "execution_count": 64,
   "metadata": {
    "collapsed": true
   },
   "outputs": [],
   "source": [
    "x = Placeholder()"
   ]
  },
  {
   "cell_type": "code",
   "execution_count": 65,
   "metadata": {
    "collapsed": true
   },
   "outputs": [],
   "source": [
    "w = Variable([1,1])"
   ]
  },
  {
   "cell_type": "code",
   "execution_count": 66,
   "metadata": {
    "collapsed": true
   },
   "outputs": [],
   "source": [
    "b = Variable(-5)"
   ]
  },
  {
   "cell_type": "code",
   "execution_count": 67,
   "metadata": {
    "collapsed": true
   },
   "outputs": [],
   "source": [
    "z = add(matmul(w,x),b)"
   ]
  },
  {
   "cell_type": "code",
   "execution_count": 68,
   "metadata": {
    "collapsed": true
   },
   "outputs": [],
   "source": [
    "a = Sigmoid(z)"
   ]
  },
  {
   "cell_type": "code",
   "execution_count": 51,
   "metadata": {
    "collapsed": true
   },
   "outputs": [],
   "source": [
    "sess = Session()"
   ]
  },
  {
   "cell_type": "code",
   "execution_count": 74,
   "metadata": {},
   "outputs": [],
   "source": [
    "result = sess.run(operation=a,feed_dict={x:[8,10]})"
   ]
  },
  {
   "cell_type": "code",
   "execution_count": 75,
   "metadata": {},
   "outputs": [
    {
     "data": {
      "text/plain": [
       "0.99999773967570205"
      ]
     },
     "execution_count": 75,
     "metadata": {},
     "output_type": "execute_result"
    }
   ],
   "source": [
    "result"
   ]
  },
  {
   "cell_type": "code",
   "execution_count": 78,
   "metadata": {},
   "outputs": [
    {
     "data": {
      "text/plain": [
       "4.1399375473943306e-08"
      ]
     },
     "execution_count": 78,
     "metadata": {},
     "output_type": "execute_result"
    }
   ],
   "source": [
    "sess.run(operation=a,feed_dict={x:[-2,-10]})"
   ]
  },
  {
   "cell_type": "markdown",
   "metadata": {},
   "source": [
    "# Great Job!"
   ]
  }
 ],
 "metadata": {
  "kernelspec": {
   "display_name": "Python 3",
   "language": "python",
   "name": "python3"
  },
  "language_info": {
   "codemirror_mode": {
    "name": "ipython",
    "version": 3
   },
   "file_extension": ".py",
   "mimetype": "text/x-python",
   "name": "python",
   "nbconvert_exporter": "python",
   "pygments_lexer": "ipython3",
   "version": "3.5.4"
  }
 },
 "nbformat": 4,
 "nbformat_minor": 2
}
