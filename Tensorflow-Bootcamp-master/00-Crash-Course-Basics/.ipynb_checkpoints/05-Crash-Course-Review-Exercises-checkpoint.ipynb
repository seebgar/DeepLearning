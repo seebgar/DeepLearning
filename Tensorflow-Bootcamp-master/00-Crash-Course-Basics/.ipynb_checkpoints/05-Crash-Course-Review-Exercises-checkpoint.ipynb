{
 "cells": [
  {
   "cell_type": "markdown",
   "metadata": {},
   "source": [
    "# Crash Course Review Exercises "
   ]
  },
  {
   "cell_type": "markdown",
   "metadata": {},
   "source": [
    "** Import numpy,pandas,matplotlib,and sklearn. Also set visualizations to be shown inline in the notebook.**"
   ]
  },
  {
   "cell_type": "code",
   "execution_count": 2,
   "metadata": {
    "collapsed": true
   },
   "outputs": [],
   "source": [
    "import numpy as np"
   ]
  },
  {
   "cell_type": "code",
   "execution_count": 41,
   "metadata": {
    "collapsed": true
   },
   "outputs": [],
   "source": [
    "import pandas as pd"
   ]
  },
  {
   "cell_type": "code",
   "execution_count": 43,
   "metadata": {
    "collapsed": true
   },
   "outputs": [],
   "source": [
    "import matplotlib.pyplot as plt"
   ]
  },
  {
   "cell_type": "code",
   "execution_count": 45,
   "metadata": {},
   "outputs": [],
   "source": [
    "%matplotlib inline "
   ]
  },
  {
   "cell_type": "code",
   "execution_count": 46,
   "metadata": {
    "collapsed": true
   },
   "outputs": [],
   "source": [
    "# matplotlib inline  just in jupyter. Otherwise, use plt.show()"
   ]
  },
  {
   "cell_type": "code",
   "execution_count": 47,
   "metadata": {
    "collapsed": true
   },
   "outputs": [],
   "source": [
    "from sklearn.preprocessing import MinMaxScaler"
   ]
  },
  {
   "cell_type": "markdown",
   "metadata": {},
   "source": [
    "** Set Numpy's Random Seed to 101 **"
   ]
  },
  {
   "cell_type": "code",
   "execution_count": 9,
   "metadata": {
    "collapsed": true
   },
   "outputs": [],
   "source": [
    "np.random.seed(101)"
   ]
  },
  {
   "cell_type": "markdown",
   "metadata": {},
   "source": [
    "** Create a NumPy Matrix of 100 rows by 5 columns consisting of random integers from 1-100. (Keep in mind that the upper limit may be exclusive.**"
   ]
  },
  {
   "cell_type": "code",
   "execution_count": 14,
   "metadata": {
    "collapsed": true
   },
   "outputs": [],
   "source": [
    "array = np.random.randint(1, 101, (100, 5))"
   ]
  },
  {
   "cell_type": "code",
   "execution_count": 15,
   "metadata": {
    "scrolled": true
   },
   "outputs": [
    {
     "data": {
      "text/plain": [
       "array([[  8,  66,  51,  54,   5],\n",
       "       [ 40,   2,   6,  68,  93],\n",
       "       [ 51,  60,   3,  92,  15],\n",
       "       [ 13,  69,  88,  14,  19],\n",
       "       [  5,  90,  23,  41,   8],\n",
       "       [  3,  84,  20,  69,  90],\n",
       "       [ 17,   2,   3,  74,  66],\n",
       "       [ 25,  85,  18,  22,  98],\n",
       "       [ 45,  37,  39,  94,  33],\n",
       "       [  6,  77,  20,  34,  77],\n",
       "       [ 42,  22,  21,  55,  78],\n",
       "       [ 63, 100,   5,  53,  84],\n",
       "       [ 56,  12,  47,  40,  93],\n",
       "       [ 35,  55,  50,  12,  63],\n",
       "       [ 12,  84,  26,  33,  41],\n",
       "       [ 28,  31,  93,  60,  87],\n",
       "       [ 75,  18,  70,  86,   5],\n",
       "       [  6,  50,  30,  42,  39],\n",
       "       [ 23,  46,  11,  66,  78],\n",
       "       [ 73,  91,  81,  65,  82],\n",
       "       [ 21,   3,  21,  54,  39],\n",
       "       [ 95,  50,  27,  89,  22],\n",
       "       [ 39,  53,  75,  97,  20],\n",
       "       [ 78,   6,  71,  28,  93],\n",
       "       [  7,  98,  72,  24,  91],\n",
       "       [ 79,  86,  62,  80,  55],\n",
       "       [ 57,  65,  42,  62,  57],\n",
       "       [  3,  87,  20,  78,   6],\n",
       "       [ 45,  16,  76,  71,  13],\n",
       "       [ 14,  94,  22,  47,  29],\n",
       "       [ 21,  71,  15,  57,  20],\n",
       "       [ 80,  60,  34,  34,  12],\n",
       "       [ 45,  44,  94,   4,  40],\n",
       "       [ 78,   4,  59,  52,  33],\n",
       "       [ 47,   9,  10,  14,  64],\n",
       "       [ 60,  80,   6,  34,  48],\n",
       "       [ 30,  80,  63,  26,  44],\n",
       "       [ 47,  95,  69,  56,  70],\n",
       "       [ 42,  42,  15,  48,   4],\n",
       "       [ 65,  24,  81,  43,  85],\n",
       "       [ 89,  90,  11,  79,  98],\n",
       "       [ 66,   9,  15,  29,  81],\n",
       "       [ 18,  63,  28,  34,  15],\n",
       "       [ 22,  26,  97,  65,  85],\n",
       "       [  7,  77,  96,  44,  95],\n",
       "       [ 41,  69,  46,  25,  51],\n",
       "       [ 37,  63,  53,  10,  80],\n",
       "       [ 75,  31,  71,  91,  59],\n",
       "       [ 98,  58,  61,  65,  87],\n",
       "       [ 94,  32,  23,  91,   4],\n",
       "       [ 53,  10,  94,  61,  43],\n",
       "       [  2,  16,  39,  66,  11],\n",
       "       [ 87,  64,  99,  12,  97],\n",
       "       [ 68,  96,  95,  81,  17],\n",
       "       [ 31,  90,  63,  63,  43],\n",
       "       [ 11,  49,  87,  34,  53],\n",
       "       [ 25,  95,  79,  72,  20],\n",
       "       [ 76,  82,  72,  24,  94],\n",
       "       [ 59,  49,  77,  64,  59],\n",
       "       [ 29,  85,  48,  41,  64],\n",
       "       [ 47,  23,   7,  11,  62],\n",
       "       [ 16,  32,  24,  17,  96],\n",
       "       [ 27,  91,  16,  95,  43],\n",
       "       [ 66,  22,  35,  27,  82],\n",
       "       [ 80,  30,  64,  31,  93],\n",
       "       [ 99,  74,  43,  14,  28],\n",
       "       [ 77,   1,  86,  69,  99],\n",
       "       [ 53,  24,  15,  93,  26],\n",
       "       [ 19,  17,  63,  26,  80],\n",
       "       [ 86,  39,  66,  48,  51],\n",
       "       [ 89,  64,  88,  15,  64],\n",
       "       [ 15,  54,  69,  98,   8],\n",
       "       [ 67,  62,   3,  16,  81],\n",
       "       [ 48,  76,  86,  18,   9],\n",
       "       [ 88,  53,  16,  94,  18],\n",
       "       [ 35,  25,  24,  47,  56],\n",
       "       [ 26,  65,  91,  90,  57],\n",
       "       [ 88,  19,  33,  32,  75],\n",
       "       [ 13,  87,  17,  51, 100],\n",
       "       [ 37,  78,  91,  61,   8],\n",
       "       [ 85,  86,  78,  73,  95],\n",
       "       [ 35,   5,  38,  80,  43],\n",
       "       [ 83,  12,  32,  67,  14],\n",
       "       [ 57,  86,  67,  17,  64],\n",
       "       [ 44,  47,  51,  38,  77],\n",
       "       [ 96,  51,  54,   7,   2],\n",
       "       [ 99,  17,  36,  22,  34],\n",
       "       [ 68,  88,  45,  63,  37],\n",
       "       [ 44,  89,  92,  83,  91],\n",
       "       [ 12,  13,   7,  65,  16],\n",
       "       [ 19,   7,  30,  12,  49],\n",
       "       [ 25,  51,  54,  38,  78],\n",
       "       [ 48,  70,  58,  43,  65],\n",
       "       [ 85,  23,  49,  75,  19],\n",
       "       [ 43,  80,  56,  66,  39],\n",
       "       [ 30,  39,  84,  35,  74],\n",
       "       [ 26,  21,  88,  13,  16],\n",
       "       [ 91,  63,  22,  38,  39],\n",
       "       [ 18,  29,  70,  13,  78],\n",
       "       [ 65,  38,  66,  44,  73]])"
      ]
     },
     "execution_count": 15,
     "metadata": {},
     "output_type": "execute_result"
    }
   ],
   "source": [
    "array"
   ]
  },
  {
   "cell_type": "markdown",
   "metadata": {},
   "source": [
    "** Create a 2-D visualization using plt.imshow of the numpy matrix with a colorbar. Add a title to your plot. Bonus: Figure out how to change the [*aspect*](https://stackoverflow.com/questions/10540929/figure-of-imshow-is-too-small) of the imshow() plot. **"
   ]
  },
  {
   "cell_type": "code",
   "execution_count": 25,
   "metadata": {
    "scrolled": true
   },
   "outputs": [
    {
     "data": {
      "text/plain": [
       "<matplotlib.colorbar.Colorbar at 0x119c06668>"
      ]
     },
     "execution_count": 25,
     "metadata": {},
     "output_type": "execute_result"
    },
    {
     "data": {
      "image/png": "[encoded data removed]",
      "text/plain": [
       "<matplotlib.figure.Figure at 0x119bf16a0>"
      ]
     },
     "metadata": {},
     "output_type": "display_data"
    }
   ],
   "source": [
    "plt.imshow(array, aspect='auto')\n",
    "plt.title('Numbers')\n",
    "plt.colorbar()"
   ]
  },
  {
   "cell_type": "markdown",
   "metadata": {},
   "source": [
    "** Now use pd.DataFrame() to read in this numpy array as a dataframe. Simple pass in the numpy array into that function to get back a dataframe. Pandas will auto label the columns to 0-4**"
   ]
  },
  {
   "cell_type": "code",
   "execution_count": 26,
   "metadata": {
    "collapsed": true
   },
   "outputs": [],
   "source": [
    "df = pd.DataFrame(data = array)"
   ]
  },
  {
   "cell_type": "code",
   "execution_count": 27,
   "metadata": {
    "scrolled": true
   },
   "outputs": [
    {
     "data": {
      "text/html": [
       "<div>\n",
       "<style>\n",
       "    .dataframe thead tr:only-child th {\n",
       "        text-align: right;\n",
       "    }\n",
       "\n",
       "    .dataframe thead th {\n",
       "        text-align: left;\n",
       "    }\n",
       "\n",
       "    .dataframe tbody tr th {\n",
       "        vertical-align: top;\n",
       "    }\n",
       "</style>\n",
       "<table border=\"1\" class=\"dataframe\">\n",
       "  <thead>\n",
       "    <tr style=\"text-align: right;\">\n",
       "      <th></th>\n",
       "      <th>0</th>\n",
       "      <th>1</th>\n",
       "      <th>2</th>\n",
       "      <th>3</th>\n",
       "      <th>4</th>\n",
       "    </tr>\n",
       "  </thead>\n",
       "  <tbody>\n",
       "    <tr>\n",
       "      <th>0</th>\n",
       "      <td>8</td>\n",
       "      <td>66</td>\n",
       "      <td>51</td>\n",
       "      <td>54</td>\n",
       "      <td>5</td>\n",
       "    </tr>\n",
       "    <tr>\n",
       "      <th>1</th>\n",
       "      <td>40</td>\n",
       "      <td>2</td>\n",
       "      <td>6</td>\n",
       "      <td>68</td>\n",
       "      <td>93</td>\n",
       "    </tr>\n",
       "    <tr>\n",
       "      <th>2</th>\n",
       "      <td>51</td>\n",
       "      <td>60</td>\n",
       "      <td>3</td>\n",
       "      <td>92</td>\n",
       "      <td>15</td>\n",
       "    </tr>\n",
       "    <tr>\n",
       "      <th>3</th>\n",
       "      <td>13</td>\n",
       "      <td>69</td>\n",
       "      <td>88</td>\n",
       "      <td>14</td>\n",
       "      <td>19</td>\n",
       "    </tr>\n",
       "    <tr>\n",
       "      <th>4</th>\n",
       "      <td>5</td>\n",
       "      <td>90</td>\n",
       "      <td>23</td>\n",
       "      <td>41</td>\n",
       "      <td>8</td>\n",
       "    </tr>\n",
       "    <tr>\n",
       "      <th>5</th>\n",
       "      <td>3</td>\n",
       "      <td>84</td>\n",
       "      <td>20</td>\n",
       "      <td>69</td>\n",
       "      <td>90</td>\n",
       "    </tr>\n",
       "    <tr>\n",
       "      <th>6</th>\n",
       "      <td>17</td>\n",
       "      <td>2</td>\n",
       "      <td>3</td>\n",
       "      <td>74</td>\n",
       "      <td>66</td>\n",
       "    </tr>\n",
       "    <tr>\n",
       "      <th>7</th>\n",
       "      <td>25</td>\n",
       "      <td>85</td>\n",
       "      <td>18</td>\n",
       "      <td>22</td>\n",
       "      <td>98</td>\n",
       "    </tr>\n",
       "    <tr>\n",
       "      <th>8</th>\n",
       "      <td>45</td>\n",
       "      <td>37</td>\n",
       "      <td>39</td>\n",
       "      <td>94</td>\n",
       "      <td>33</td>\n",
       "    </tr>\n",
       "    <tr>\n",
       "      <th>9</th>\n",
       "      <td>6</td>\n",
       "      <td>77</td>\n",
       "      <td>20</td>\n",
       "      <td>34</td>\n",
       "      <td>77</td>\n",
       "    </tr>\n",
       "    <tr>\n",
       "      <th>10</th>\n",
       "      <td>42</td>\n",
       "      <td>22</td>\n",
       "      <td>21</td>\n",
       "      <td>55</td>\n",
       "      <td>78</td>\n",
       "    </tr>\n",
       "    <tr>\n",
       "      <th>11</th>\n",
       "      <td>63</td>\n",
       "      <td>100</td>\n",
       "      <td>5</td>\n",
       "      <td>53</td>\n",
       "      <td>84</td>\n",
       "    </tr>\n",
       "    <tr>\n",
       "      <th>12</th>\n",
       "      <td>56</td>\n",
       "      <td>12</td>\n",
       "      <td>47</td>\n",
       "      <td>40</td>\n",
       "      <td>93</td>\n",
       "    </tr>\n",
       "    <tr>\n",
       "      <th>13</th>\n",
       "      <td>35</td>\n",
       "      <td>55</td>\n",
       "      <td>50</td>\n",
       "      <td>12</td>\n",
       "      <td>63</td>\n",
       "    </tr>\n",
       "    <tr>\n",
       "      <th>14</th>\n",
       "      <td>12</td>\n",
       "      <td>84</td>\n",
       "      <td>26</td>\n",
       "      <td>33</td>\n",
       "      <td>41</td>\n",
       "    </tr>\n",
       "    <tr>\n",
       "      <th>15</th>\n",
       "      <td>28</td>\n",
       "      <td>31</td>\n",
       "      <td>93</td>\n",
       "      <td>60</td>\n",
       "      <td>87</td>\n",
       "    </tr>\n",
       "    <tr>\n",
       "      <th>16</th>\n",
       "      <td>75</td>\n",
       "      <td>18</td>\n",
       "      <td>70</td>\n",
       "      <td>86</td>\n",
       "      <td>5</td>\n",
       "    </tr>\n",
       "    <tr>\n",
       "      <th>17</th>\n",
       "      <td>6</td>\n",
       "      <td>50</td>\n",
       "      <td>30</td>\n",
       "      <td>42</td>\n",
       "      <td>39</td>\n",
       "    </tr>\n",
       "    <tr>\n",
       "      <th>18</th>\n",
       "      <td>23</td>\n",
       "      <td>46</td>\n",
       "      <td>11</td>\n",
       "      <td>66</td>\n",
       "      <td>78</td>\n",
       "    </tr>\n",
       "    <tr>\n",
       "      <th>19</th>\n",
       "      <td>73</td>\n",
       "      <td>91</td>\n",
       "      <td>81</td>\n",
       "      <td>65</td>\n",
       "      <td>82</td>\n",
       "    </tr>\n",
       "    <tr>\n",
       "      <th>20</th>\n",
       "      <td>21</td>\n",
       "      <td>3</td>\n",
       "      <td>21</td>\n",
       "      <td>54</td>\n",
       "      <td>39</td>\n",
       "    </tr>\n",
       "    <tr>\n",
       "      <th>21</th>\n",
       "      <td>95</td>\n",
       "      <td>50</td>\n",
       "      <td>27</td>\n",
       "      <td>89</td>\n",
       "      <td>22</td>\n",
       "    </tr>\n",
       "    <tr>\n",
       "      <th>22</th>\n",
       "      <td>39</td>\n",
       "      <td>53</td>\n",
       "      <td>75</td>\n",
       "      <td>97</td>\n",
       "      <td>20</td>\n",
       "    </tr>\n",
       "    <tr>\n",
       "      <th>23</th>\n",
       "      <td>78</td>\n",
       "      <td>6</td>\n",
       "      <td>71</td>\n",
       "      <td>28</td>\n",
       "      <td>93</td>\n",
       "    </tr>\n",
       "    <tr>\n",
       "      <th>24</th>\n",
       "      <td>7</td>\n",
       "      <td>98</td>\n",
       "      <td>72</td>\n",
       "      <td>24</td>\n",
       "      <td>91</td>\n",
       "    </tr>\n",
       "    <tr>\n",
       "      <th>25</th>\n",
       "      <td>79</td>\n",
       "      <td>86</td>\n",
       "      <td>62</td>\n",
       "      <td>80</td>\n",
       "      <td>55</td>\n",
       "    </tr>\n",
       "    <tr>\n",
       "      <th>26</th>\n",
       "      <td>57</td>\n",
       "      <td>65</td>\n",
       "      <td>42</td>\n",
       "      <td>62</td>\n",
       "      <td>57</td>\n",
       "    </tr>\n",
       "    <tr>\n",
       "      <th>27</th>\n",
       "      <td>3</td>\n",
       "      <td>87</td>\n",
       "      <td>20</td>\n",
       "      <td>78</td>\n",
       "      <td>6</td>\n",
       "    </tr>\n",
       "    <tr>\n",
       "      <th>28</th>\n",
       "      <td>45</td>\n",
       "      <td>16</td>\n",
       "      <td>76</td>\n",
       "      <td>71</td>\n",
       "      <td>13</td>\n",
       "    </tr>\n",
       "    <tr>\n",
       "      <th>29</th>\n",
       "      <td>14</td>\n",
       "      <td>94</td>\n",
       "      <td>22</td>\n",
       "      <td>47</td>\n",
       "      <td>29</td>\n",
       "    </tr>\n",
       "    <tr>\n",
       "      <th>...</th>\n",
       "      <td>...</td>\n",
       "      <td>...</td>\n",
       "      <td>...</td>\n",
       "      <td>...</td>\n",
       "      <td>...</td>\n",
       "    </tr>\n",
       "    <tr>\n",
       "      <th>70</th>\n",
       "      <td>89</td>\n",
       "      <td>64</td>\n",
       "      <td>88</td>\n",
       "      <td>15</td>\n",
       "      <td>64</td>\n",
       "    </tr>\n",
       "    <tr>\n",
       "      <th>71</th>\n",
       "      <td>15</td>\n",
       "      <td>54</td>\n",
       "      <td>69</td>\n",
       "      <td>98</td>\n",
       "      <td>8</td>\n",
       "    </tr>\n",
       "    <tr>\n",
       "      <th>72</th>\n",
       "      <td>67</td>\n",
       "      <td>62</td>\n",
       "      <td>3</td>\n",
       "      <td>16</td>\n",
       "      <td>81</td>\n",
       "    </tr>\n",
       "    <tr>\n",
       "      <th>73</th>\n",
       "      <td>48</td>\n",
       "      <td>76</td>\n",
       "      <td>86</td>\n",
       "      <td>18</td>\n",
       "      <td>9</td>\n",
       "    </tr>\n",
       "    <tr>\n",
       "      <th>74</th>\n",
       "      <td>88</td>\n",
       "      <td>53</td>\n",
       "      <td>16</td>\n",
       "      <td>94</td>\n",
       "      <td>18</td>\n",
       "    </tr>\n",
       "    <tr>\n",
       "      <th>75</th>\n",
       "      <td>35</td>\n",
       "      <td>25</td>\n",
       "      <td>24</td>\n",
       "      <td>47</td>\n",
       "      <td>56</td>\n",
       "    </tr>\n",
       "    <tr>\n",
       "      <th>76</th>\n",
       "      <td>26</td>\n",
       "      <td>65</td>\n",
       "      <td>91</td>\n",
       "      <td>90</td>\n",
       "      <td>57</td>\n",
       "    </tr>\n",
       "    <tr>\n",
       "      <th>77</th>\n",
       "      <td>88</td>\n",
       "      <td>19</td>\n",
       "      <td>33</td>\n",
       "      <td>32</td>\n",
       "      <td>75</td>\n",
       "    </tr>\n",
       "    <tr>\n",
       "      <th>78</th>\n",
       "      <td>13</td>\n",
       "      <td>87</td>\n",
       "      <td>17</td>\n",
       "      <td>51</td>\n",
       "      <td>100</td>\n",
       "    </tr>\n",
       "    <tr>\n",
       "      <th>79</th>\n",
       "      <td>37</td>\n",
       "      <td>78</td>\n",
       "      <td>91</td>\n",
       "      <td>61</td>\n",
       "      <td>8</td>\n",
       "    </tr>\n",
       "    <tr>\n",
       "      <th>80</th>\n",
       "      <td>85</td>\n",
       "      <td>86</td>\n",
       "      <td>78</td>\n",
       "      <td>73</td>\n",
       "      <td>95</td>\n",
       "    </tr>\n",
       "    <tr>\n",
       "      <th>81</th>\n",
       "      <td>35</td>\n",
       "      <td>5</td>\n",
       "      <td>38</td>\n",
       "      <td>80</td>\n",
       "      <td>43</td>\n",
       "    </tr>\n",
       "    <tr>\n",
       "      <th>82</th>\n",
       "      <td>83</td>\n",
       "      <td>12</td>\n",
       "      <td>32</td>\n",
       "      <td>67</td>\n",
       "      <td>14</td>\n",
       "    </tr>\n",
       "    <tr>\n",
       "      <th>83</th>\n",
       "      <td>57</td>\n",
       "      <td>86</td>\n",
       "      <td>67</td>\n",
       "      <td>17</td>\n",
       "      <td>64</td>\n",
       "    </tr>\n",
       "    <tr>\n",
       "      <th>84</th>\n",
       "      <td>44</td>\n",
       "      <td>47</td>\n",
       "      <td>51</td>\n",
       "      <td>38</td>\n",
       "      <td>77</td>\n",
       "    </tr>\n",
       "    <tr>\n",
       "      <th>85</th>\n",
       "      <td>96</td>\n",
       "      <td>51</td>\n",
       "      <td>54</td>\n",
       "      <td>7</td>\n",
       "      <td>2</td>\n",
       "    </tr>\n",
       "    <tr>\n",
       "      <th>86</th>\n",
       "      <td>99</td>\n",
       "      <td>17</td>\n",
       "      <td>36</td>\n",
       "      <td>22</td>\n",
       "      <td>34</td>\n",
       "    </tr>\n",
       "    <tr>\n",
       "      <th>87</th>\n",
       "      <td>68</td>\n",
       "      <td>88</td>\n",
       "      <td>45</td>\n",
       "      <td>63</td>\n",
       "      <td>37</td>\n",
       "    </tr>\n",
       "    <tr>\n",
       "      <th>88</th>\n",
       "      <td>44</td>\n",
       "      <td>89</td>\n",
       "      <td>92</td>\n",
       "      <td>83</td>\n",
       "      <td>91</td>\n",
       "    </tr>\n",
       "    <tr>\n",
       "      <th>89</th>\n",
       "      <td>12</td>\n",
       "      <td>13</td>\n",
       "      <td>7</td>\n",
       "      <td>65</td>\n",
       "      <td>16</td>\n",
       "    </tr>\n",
       "    <tr>\n",
       "      <th>90</th>\n",
       "      <td>19</td>\n",
       "      <td>7</td>\n",
       "      <td>30</td>\n",
       "      <td>12</td>\n",
       "      <td>49</td>\n",
       "    </tr>\n",
       "    <tr>\n",
       "      <th>91</th>\n",
       "      <td>25</td>\n",
       "      <td>51</td>\n",
       "      <td>54</td>\n",
       "      <td>38</td>\n",
       "      <td>78</td>\n",
       "    </tr>\n",
       "    <tr>\n",
       "      <th>92</th>\n",
       "      <td>48</td>\n",
       "      <td>70</td>\n",
       "      <td>58</td>\n",
       "      <td>43</td>\n",
       "      <td>65</td>\n",
       "    </tr>\n",
       "    <tr>\n",
       "      <th>93</th>\n",
       "      <td>85</td>\n",
       "      <td>23</td>\n",
       "      <td>49</td>\n",
       "      <td>75</td>\n",
       "      <td>19</td>\n",
       "    </tr>\n",
       "    <tr>\n",
       "      <th>94</th>\n",
       "      <td>43</td>\n",
       "      <td>80</td>\n",
       "      <td>56</td>\n",
       "      <td>66</td>\n",
       "      <td>39</td>\n",
       "    </tr>\n",
       "    <tr>\n",
       "      <th>95</th>\n",
       "      <td>30</td>\n",
       "      <td>39</td>\n",
       "      <td>84</td>\n",
       "      <td>35</td>\n",
       "      <td>74</td>\n",
       "    </tr>\n",
       "    <tr>\n",
       "      <th>96</th>\n",
       "      <td>26</td>\n",
       "      <td>21</td>\n",
       "      <td>88</td>\n",
       "      <td>13</td>\n",
       "      <td>16</td>\n",
       "    </tr>\n",
       "    <tr>\n",
       "      <th>97</th>\n",
       "      <td>91</td>\n",
       "      <td>63</td>\n",
       "      <td>22</td>\n",
       "      <td>38</td>\n",
       "      <td>39</td>\n",
       "    </tr>\n",
       "    <tr>\n",
       "      <th>98</th>\n",
       "      <td>18</td>\n",
       "      <td>29</td>\n",
       "      <td>70</td>\n",
       "      <td>13</td>\n",
       "      <td>78</td>\n",
       "    </tr>\n",
       "    <tr>\n",
       "      <th>99</th>\n",
       "      <td>65</td>\n",
       "      <td>38</td>\n",
       "      <td>66</td>\n",
       "      <td>44</td>\n",
       "      <td>73</td>\n",
       "    </tr>\n",
       "  </tbody>\n",
       "</table>\n",
       "<p>100 rows × 5 columns</p>\n",
       "</div>"
      ],
      "text/plain": [
       "     0    1   2   3    4\n",
       "0    8   66  51  54    5\n",
       "1   40    2   6  68   93\n",
       "2   51   60   3  92   15\n",
       "3   13   69  88  14   19\n",
       "4    5   90  23  41    8\n",
       "5    3   84  20  69   90\n",
       "6   17    2   3  74   66\n",
       "7   25   85  18  22   98\n",
       "8   45   37  39  94   33\n",
       "9    6   77  20  34   77\n",
       "10  42   22  21  55   78\n",
       "11  63  100   5  53   84\n",
       "12  56   12  47  40   93\n",
       "13  35   55  50  12   63\n",
       "14  12   84  26  33   41\n",
       "15  28   31  93  60   87\n",
       "16  75   18  70  86    5\n",
       "17   6   50  30  42   39\n",
       "18  23   46  11  66   78\n",
       "19  73   91  81  65   82\n",
       "20  21    3  21  54   39\n",
       "21  95   50  27  89   22\n",
       "22  39   53  75  97   20\n",
       "23  78    6  71  28   93\n",
       "24   7   98  72  24   91\n",
       "25  79   86  62  80   55\n",
       "26  57   65  42  62   57\n",
       "27   3   87  20  78    6\n",
       "28  45   16  76  71   13\n",
       "29  14   94  22  47   29\n",
       "..  ..  ...  ..  ..  ...\n",
       "70  89   64  88  15   64\n",
       "71  15   54  69  98    8\n",
       "72  67   62   3  16   81\n",
       "73  48   76  86  18    9\n",
       "74  88   53  16  94   18\n",
       "75  35   25  24  47   56\n",
       "76  26   65  91  90   57\n",
       "77  88   19  33  32   75\n",
       "78  13   87  17  51  100\n",
       "79  37   78  91  61    8\n",
       "80  85   86  78  73   95\n",
       "81  35    5  38  80   43\n",
       "82  83   12  32  67   14\n",
       "83  57   86  67  17   64\n",
       "84  44   47  51  38   77\n",
       "85  96   51  54   7    2\n",
       "86  99   17  36  22   34\n",
       "87  68   88  45  63   37\n",
       "88  44   89  92  83   91\n",
       "89  12   13   7  65   16\n",
       "90  19    7  30  12   49\n",
       "91  25   51  54  38   78\n",
       "92  48   70  58  43   65\n",
       "93  85   23  49  75   19\n",
       "94  43   80  56  66   39\n",
       "95  30   39  84  35   74\n",
       "96  26   21  88  13   16\n",
       "97  91   63  22  38   39\n",
       "98  18   29  70  13   78\n",
       "99  65   38  66  44   73\n",
       "\n",
       "[100 rows x 5 columns]"
      ]
     },
     "execution_count": 27,
     "metadata": {},
     "output_type": "execute_result"
    }
   ],
   "source": [
    "df"
   ]
  },
  {
   "cell_type": "markdown",
   "metadata": {},
   "source": [
    "** Now create a scatter plot using pandas of the 0 column vs the 1 column. **"
   ]
  },
  {
   "cell_type": "code",
   "execution_count": 29,
   "metadata": {
    "scrolled": true
   },
   "outputs": [
    {
     "data": {
      "text/plain": [
       "<matplotlib.axes._subplots.AxesSubplot at 0x119d722b0>"
      ]
     },
     "execution_count": 29,
     "metadata": {},
     "output_type": "execute_result"
    },
    {
     "data": {
      "image/png": "[encoded data removed]",
      "text/plain": [
       "<matplotlib.figure.Figure at 0x119e90cf8>"
      ]
     },
     "metadata": {},
     "output_type": "display_data"
    }
   ],
   "source": [
    "df.plot(x=0, y=1, kind='scatter')"
   ]
  },
  {
   "cell_type": "markdown",
   "metadata": {},
   "source": [
    "** Now scale the data to have a minimum of 0 and a maximum value of 1 using scikit-learn. **"
   ]
  },
  {
   "cell_type": "code",
   "execution_count": 30,
   "metadata": {
    "collapsed": true
   },
   "outputs": [],
   "source": [
    "model = MinMaxScaler()"
   ]
  },
  {
   "cell_type": "code",
   "execution_count": 48,
   "metadata": {},
   "outputs": [
    {
     "name": "stderr",
     "output_type": "stream",
     "text": [
      "/anaconda3/envs/tfdeeplearning/lib/python3.5/site-packages/sklearn/utils/validation.py:444: DataConversionWarning: Data with input dtype int64 was converted to float64 by MinMaxScaler.\n",
      "  warnings.warn(msg, DataConversionWarning)\n"
     ]
    },
    {
     "data": {
      "text/plain": [
       "MinMaxScaler(copy=True, feature_range=(0, 1))"
      ]
     },
     "execution_count": 48,
     "metadata": {},
     "output_type": "execute_result"
    }
   ],
   "source": [
    "model.fit(array) # ignore the warning"
   ]
  },
  {
   "cell_type": "code",
   "execution_count": 33,
   "metadata": {},
   "outputs": [
    {
     "data": {
      "text/plain": [
       "array([[ 0.06185567,  0.65656566,  0.5       ,  0.53191489,  0.03061224],\n",
       "       [ 0.39175258,  0.01010101,  0.03125   ,  0.68085106,  0.92857143],\n",
       "       [ 0.50515464,  0.5959596 ,  0.        ,  0.93617021,  0.13265306],\n",
       "       [ 0.11340206,  0.68686869,  0.88541667,  0.10638298,  0.17346939],\n",
       "       [ 0.03092784,  0.8989899 ,  0.20833333,  0.39361702,  0.06122449],\n",
       "       [ 0.01030928,  0.83838384,  0.17708333,  0.69148936,  0.89795918],\n",
       "       [ 0.15463918,  0.01010101,  0.        ,  0.74468085,  0.65306122],\n",
       "       [ 0.2371134 ,  0.84848485,  0.15625   ,  0.19148936,  0.97959184],\n",
       "       [ 0.44329897,  0.36363636,  0.375     ,  0.95744681,  0.31632653],\n",
       "       [ 0.04123711,  0.76767677,  0.17708333,  0.31914894,  0.76530612],\n",
       "       [ 0.41237113,  0.21212121,  0.1875    ,  0.54255319,  0.7755102 ],\n",
       "       [ 0.62886598,  1.        ,  0.02083333,  0.5212766 ,  0.83673469],\n",
       "       [ 0.55670103,  0.11111111,  0.45833333,  0.38297872,  0.92857143],\n",
       "       [ 0.34020619,  0.54545455,  0.48958333,  0.08510638,  0.62244898],\n",
       "       [ 0.10309278,  0.83838384,  0.23958333,  0.30851064,  0.39795918],\n",
       "       [ 0.26804124,  0.3030303 ,  0.9375    ,  0.59574468,  0.86734694],\n",
       "       [ 0.75257732,  0.17171717,  0.69791667,  0.87234043,  0.03061224],\n",
       "       [ 0.04123711,  0.49494949,  0.28125   ,  0.40425532,  0.37755102],\n",
       "       [ 0.21649485,  0.45454545,  0.08333333,  0.65957447,  0.7755102 ],\n",
       "       [ 0.73195876,  0.90909091,  0.8125    ,  0.64893617,  0.81632653],\n",
       "       [ 0.19587629,  0.02020202,  0.1875    ,  0.53191489,  0.37755102],\n",
       "       [ 0.95876289,  0.49494949,  0.25      ,  0.90425532,  0.20408163],\n",
       "       [ 0.3814433 ,  0.52525253,  0.75      ,  0.9893617 ,  0.18367347],\n",
       "       [ 0.78350515,  0.05050505,  0.70833333,  0.25531915,  0.92857143],\n",
       "       [ 0.05154639,  0.97979798,  0.71875   ,  0.21276596,  0.90816327],\n",
       "       [ 0.79381443,  0.85858586,  0.61458333,  0.80851064,  0.54081633],\n",
       "       [ 0.56701031,  0.64646465,  0.40625   ,  0.61702128,  0.56122449],\n",
       "       [ 0.01030928,  0.86868687,  0.17708333,  0.78723404,  0.04081633],\n",
       "       [ 0.44329897,  0.15151515,  0.76041667,  0.71276596,  0.1122449 ],\n",
       "       [ 0.12371134,  0.93939394,  0.19791667,  0.45744681,  0.2755102 ],\n",
       "       [ 0.19587629,  0.70707071,  0.125     ,  0.56382979,  0.18367347],\n",
       "       [ 0.80412371,  0.5959596 ,  0.32291667,  0.31914894,  0.10204082],\n",
       "       [ 0.44329897,  0.43434343,  0.94791667,  0.        ,  0.3877551 ],\n",
       "       [ 0.78350515,  0.03030303,  0.58333333,  0.5106383 ,  0.31632653],\n",
       "       [ 0.46391753,  0.08080808,  0.07291667,  0.10638298,  0.63265306],\n",
       "       [ 0.59793814,  0.7979798 ,  0.03125   ,  0.31914894,  0.46938776],\n",
       "       [ 0.28865979,  0.7979798 ,  0.625     ,  0.23404255,  0.42857143],\n",
       "       [ 0.46391753,  0.94949495,  0.6875    ,  0.55319149,  0.69387755],\n",
       "       [ 0.41237113,  0.41414141,  0.125     ,  0.46808511,  0.02040816],\n",
       "       [ 0.64948454,  0.23232323,  0.8125    ,  0.41489362,  0.84693878],\n",
       "       [ 0.89690722,  0.8989899 ,  0.08333333,  0.79787234,  0.97959184],\n",
       "       [ 0.65979381,  0.08080808,  0.125     ,  0.26595745,  0.80612245],\n",
       "       [ 0.16494845,  0.62626263,  0.26041667,  0.31914894,  0.13265306],\n",
       "       [ 0.20618557,  0.25252525,  0.97916667,  0.64893617,  0.84693878],\n",
       "       [ 0.05154639,  0.76767677,  0.96875   ,  0.42553191,  0.94897959],\n",
       "       [ 0.40206186,  0.68686869,  0.44791667,  0.22340426,  0.5       ],\n",
       "       [ 0.36082474,  0.62626263,  0.52083333,  0.06382979,  0.79591837],\n",
       "       [ 0.75257732,  0.3030303 ,  0.70833333,  0.92553191,  0.58163265],\n",
       "       [ 0.98969072,  0.57575758,  0.60416667,  0.64893617,  0.86734694],\n",
       "       [ 0.94845361,  0.31313131,  0.20833333,  0.92553191,  0.02040816],\n",
       "       [ 0.5257732 ,  0.09090909,  0.94791667,  0.60638298,  0.41836735],\n",
       "       [ 0.        ,  0.15151515,  0.375     ,  0.65957447,  0.09183673],\n",
       "       [ 0.87628866,  0.63636364,  1.        ,  0.08510638,  0.96938776],\n",
       "       [ 0.68041237,  0.95959596,  0.95833333,  0.81914894,  0.15306122],\n",
       "       [ 0.29896907,  0.8989899 ,  0.625     ,  0.62765957,  0.41836735],\n",
       "       [ 0.09278351,  0.48484848,  0.875     ,  0.31914894,  0.52040816],\n",
       "       [ 0.2371134 ,  0.94949495,  0.79166667,  0.72340426,  0.18367347],\n",
       "       [ 0.7628866 ,  0.81818182,  0.71875   ,  0.21276596,  0.93877551],\n",
       "       [ 0.58762887,  0.48484848,  0.77083333,  0.63829787,  0.58163265],\n",
       "       [ 0.27835052,  0.84848485,  0.46875   ,  0.39361702,  0.63265306],\n",
       "       [ 0.46391753,  0.22222222,  0.04166667,  0.07446809,  0.6122449 ],\n",
       "       [ 0.1443299 ,  0.31313131,  0.21875   ,  0.13829787,  0.95918367],\n",
       "       [ 0.25773196,  0.90909091,  0.13541667,  0.96808511,  0.41836735],\n",
       "       [ 0.65979381,  0.21212121,  0.33333333,  0.24468085,  0.81632653],\n",
       "       [ 0.80412371,  0.29292929,  0.63541667,  0.28723404,  0.92857143],\n",
       "       [ 1.        ,  0.73737374,  0.41666667,  0.10638298,  0.26530612],\n",
       "       [ 0.77319588,  0.        ,  0.86458333,  0.69148936,  0.98979592],\n",
       "       [ 0.5257732 ,  0.23232323,  0.125     ,  0.94680851,  0.24489796],\n",
       "       [ 0.17525773,  0.16161616,  0.625     ,  0.23404255,  0.79591837],\n",
       "       [ 0.86597938,  0.38383838,  0.65625   ,  0.46808511,  0.5       ],\n",
       "       [ 0.89690722,  0.63636364,  0.88541667,  0.11702128,  0.63265306],\n",
       "       [ 0.13402062,  0.53535354,  0.6875    ,  1.        ,  0.06122449],\n",
       "       [ 0.67010309,  0.61616162,  0.        ,  0.12765957,  0.80612245],\n",
       "       [ 0.4742268 ,  0.75757576,  0.86458333,  0.14893617,  0.07142857],\n",
       "       [ 0.88659794,  0.52525253,  0.13541667,  0.95744681,  0.16326531],\n",
       "       [ 0.34020619,  0.24242424,  0.21875   ,  0.45744681,  0.55102041],\n",
       "       [ 0.24742268,  0.64646465,  0.91666667,  0.91489362,  0.56122449],\n",
       "       [ 0.88659794,  0.18181818,  0.3125    ,  0.29787234,  0.74489796],\n",
       "       [ 0.11340206,  0.86868687,  0.14583333,  0.5       ,  1.        ],\n",
       "       [ 0.36082474,  0.77777778,  0.91666667,  0.60638298,  0.06122449],\n",
       "       [ 0.8556701 ,  0.85858586,  0.78125   ,  0.73404255,  0.94897959],\n",
       "       [ 0.34020619,  0.04040404,  0.36458333,  0.80851064,  0.41836735],\n",
       "       [ 0.83505155,  0.11111111,  0.30208333,  0.67021277,  0.12244898],\n",
       "       [ 0.56701031,  0.85858586,  0.66666667,  0.13829787,  0.63265306],\n",
       "       [ 0.43298969,  0.46464646,  0.5       ,  0.36170213,  0.76530612],\n",
       "       [ 0.96907216,  0.50505051,  0.53125   ,  0.03191489,  0.        ],\n",
       "       [ 1.        ,  0.16161616,  0.34375   ,  0.19148936,  0.32653061],\n",
       "       [ 0.68041237,  0.87878788,  0.4375    ,  0.62765957,  0.35714286],\n",
       "       [ 0.43298969,  0.88888889,  0.92708333,  0.84042553,  0.90816327],\n",
       "       [ 0.10309278,  0.12121212,  0.04166667,  0.64893617,  0.14285714],\n",
       "       [ 0.17525773,  0.06060606,  0.28125   ,  0.08510638,  0.47959184],\n",
       "       [ 0.2371134 ,  0.50505051,  0.53125   ,  0.36170213,  0.7755102 ],\n",
       "       [ 0.4742268 ,  0.6969697 ,  0.57291667,  0.41489362,  0.64285714],\n",
       "       [ 0.8556701 ,  0.22222222,  0.47916667,  0.75531915,  0.17346939],\n",
       "       [ 0.42268041,  0.7979798 ,  0.55208333,  0.65957447,  0.37755102],\n",
       "       [ 0.28865979,  0.38383838,  0.84375   ,  0.32978723,  0.73469388],\n",
       "       [ 0.24742268,  0.2020202 ,  0.88541667,  0.09574468,  0.14285714],\n",
       "       [ 0.91752577,  0.62626263,  0.19791667,  0.36170213,  0.37755102],\n",
       "       [ 0.16494845,  0.28282828,  0.69791667,  0.09574468,  0.7755102 ],\n",
       "       [ 0.64948454,  0.37373737,  0.65625   ,  0.42553191,  0.7244898 ]])"
      ]
     },
     "execution_count": 33,
     "metadata": {},
     "output_type": "execute_result"
    }
   ],
   "source": [
    "model.transform(array)"
   ]
  },
  {
   "cell_type": "markdown",
   "metadata": {},
   "source": [
    "** Using your previously created DataFrame, use [df.columns = [...]](https://stackoverflow.com/questions/11346283/renaming-columns-in-pandas) to rename the pandas columns to be ['f1','f2','f3','f4','label']. Then perform a train/test split with scikitlearn.**"
   ]
  },
  {
   "cell_type": "code",
   "execution_count": 52,
   "metadata": {
    "collapsed": true
   },
   "outputs": [],
   "source": [
    "df.columns =  ['f1','f2','f3','f4','label']"
   ]
  },
  {
   "cell_type": "code",
   "execution_count": 53,
   "metadata": {},
   "outputs": [
    {
     "data": {
      "text/html": [
       "<div>\n",
       "<style>\n",
       "    .dataframe thead tr:only-child th {\n",
       "        text-align: right;\n",
       "    }\n",
       "\n",
       "    .dataframe thead th {\n",
       "        text-align: left;\n",
       "    }\n",
       "\n",
       "    .dataframe tbody tr th {\n",
       "        vertical-align: top;\n",
       "    }\n",
       "</style>\n",
       "<table border=\"1\" class=\"dataframe\">\n",
       "  <thead>\n",
       "    <tr style=\"text-align: right;\">\n",
       "      <th></th>\n",
       "      <th>f1</th>\n",
       "      <th>f2</th>\n",
       "      <th>f3</th>\n",
       "      <th>f4</th>\n",
       "      <th>label</th>\n",
       "    </tr>\n",
       "  </thead>\n",
       "  <tbody>\n",
       "    <tr>\n",
       "      <th>0</th>\n",
       "      <td>8</td>\n",
       "      <td>66</td>\n",
       "      <td>51</td>\n",
       "      <td>54</td>\n",
       "      <td>5</td>\n",
       "    </tr>\n",
       "    <tr>\n",
       "      <th>1</th>\n",
       "      <td>40</td>\n",
       "      <td>2</td>\n",
       "      <td>6</td>\n",
       "      <td>68</td>\n",
       "      <td>93</td>\n",
       "    </tr>\n",
       "  </tbody>\n",
       "</table>\n",
       "</div>"
      ],
      "text/plain": [
       "   f1  f2  f3  f4  label\n",
       "0   8  66  51  54      5\n",
       "1  40   2   6  68     93"
      ]
     },
     "execution_count": 53,
     "metadata": {},
     "output_type": "execute_result"
    }
   ],
   "source": [
    "df.head(2)"
   ]
  },
  {
   "cell_type": "code",
   "execution_count": 35,
   "metadata": {
    "collapsed": true
   },
   "outputs": [],
   "source": [
    "X = df[['f1', 'f2', 'f3', 'f4']]"
   ]
  },
  {
   "cell_type": "code",
   "execution_count": 36,
   "metadata": {
    "collapsed": true
   },
   "outputs": [],
   "source": [
    "y = df['label']"
   ]
  },
  {
   "cell_type": "code",
   "execution_count": 37,
   "metadata": {
    "collapsed": true
   },
   "outputs": [],
   "source": [
    "from sklearn.model_selection import train_test_split"
   ]
  },
  {
   "cell_type": "code",
   "execution_count": 39,
   "metadata": {
    "collapsed": true
   },
   "outputs": [],
   "source": [
    "X_train, X_test, y_train, y_test = train_test_split(X, y, test_size=0.33, random_state=42)"
   ]
  },
  {
   "cell_type": "code",
   "execution_count": 50,
   "metadata": {},
   "outputs": [
    {
     "data": {
      "text/plain": [
       "(67, 4)"
      ]
     },
     "execution_count": 50,
     "metadata": {},
     "output_type": "execute_result"
    }
   ],
   "source": [
    "X_train.shape"
   ]
  },
  {
   "cell_type": "markdown",
   "metadata": {},
   "source": [
    "# Great Job!"
   ]
  }
 ],
 "metadata": {
  "kernelspec": {
   "display_name": "Python 3",
   "language": "python",
   "name": "python3"
  },
  "language_info": {
   "codemirror_mode": {
    "name": "ipython",
    "version": 3
   },
   "file_extension": ".py",
   "mimetype": "text/x-python",
   "name": "python",
   "nbconvert_exporter": "python",
   "pygments_lexer": "ipython3",
   "version": "3.5.4"
  }
 },
 "nbformat": 4,
 "nbformat_minor": 2
}
